{
 "cells": [
  {
   "cell_type": "markdown",
   "metadata": {},
   "source": [
    "# SoftTriple"
   ]
  },
  {
   "cell_type": "markdown",
   "metadata": {},
   "source": [
    "## 1. Split training and test data\n",
    "### CUB-200"
   ]
  },
  {
   "cell_type": "code",
   "execution_count": 2,
   "metadata": {},
   "outputs": [],
   "source": [
    "import os\n",
    "os.environ['CUDA_LAUNCH_BLOCKING'] = \"1\"\n",
    "\n",
    "import shutil"
   ]
  },
  {
   "cell_type": "code",
   "execution_count": 43,
   "metadata": {},
   "outputs": [
    {
     "data": {
      "text/plain": [
       "'# 将图片数据集依照给定的标签划分成训练集和测试集\\ndef split(data_path, origin, train, test):\\n    # 这个是数据集给的标注的测试集与训练集分类文件\\n    path = data_path +\\'train_test_split.txt\\'  # 这个路径请根据实际情况修改\\n    file = open(path)\\n    file_list = []\\n    for i in file:\\n        temp = \"\".join(i)\\n        temp = temp.replace(\\'\\n\\', \\'\\')\\n        temp_list = temp.split(\" \")\\n        file_list.append(temp_list[1])\\n        \\n    #file2 = open(datapath + \"images.txt\")\\n    #image_list = []\\n    #for i in file2:\\n    #    temp = \"\".join(i)\\n    #    temp = temp.replace(\\'\\n\\', \\'\\')\\n    #    temp_list = temp.split(\" \")\\n    #    image_list.append(temp_list[1])\\n\\n    # 建立路径\\n    origin_path = data_path + origin # 这三个路径请根据实际环境修改\\n    train_path = data_path + train\\n    test_path = data_path + test\\n    label_path = os.listdir(origin_path)\\n    if not os.path.exists(train_path):\\n        os.mkdir(train_path)\\n        for path in label_path:\\n            os.mkdir(train_path + \\'/\\' + path)\\n    if not os.path.exists(test_path):\\n        os.mkdir(test_path)\\n        for path in label_path:\\n            os.mkdir(test_path + \\'/\\' + path)\\n\\n    # 循环复制\\n    i = 0\\n    for path in label_path:\\n        for pic in os.listdir(origin_path + \\'/\\' + path):\\n            if file_list[i] == \\'1\\':\\n                try:\\n                    shutil.copy(origin_path + \\'/\\' + path + \\'/\\' + pic, train_path + \\'/\\' + path + \\'/\\' + pic)\\n                    print(i,\"from \" + origin_path + \\'/\\' + path + \\'/\\' + pic + \" to \" + train_path + \\'/\\' + path + \\'/\\' + pic)\\n                    i += 1\\n                except IOError as e:\\n                    print(\\'Unable to copy file %s\\' % e)\\n            else:\\n                try:\\n                    shutil.copy(origin_path + \\'/\\' + path + \\'/\\' + pic, test_path + \\'/\\' + path + \\'/\\' + pic)\\n                    print(i,\"from \" + origin_path + \\'/\\' + path + \\'/\\' + pic + \" to \" + test_path + \\'/\\' + path + \\'/\\' + pic)\\n                    i += 1\\n                except IOError as e:\\n                    print(\\'Unable to copy file %s\\' % e)'"
      ]
     },
     "execution_count": 43,
     "metadata": {},
     "output_type": "execute_result"
    }
   ],
   "source": [
    "\"\"\"# 将图片数据集依照给定的标签划分成训练集和测试集\n",
    "def split(data_path, origin, train, test):\n",
    "    # 这个是数据集给的标注的测试集与训练集分类文件\n",
    "    path = data_path +'train_test_split.txt'  # 这个路径请根据实际情况修改\n",
    "    file = open(path)\n",
    "    file_list = []\n",
    "    for i in file:\n",
    "        temp = \"\".join(i)\n",
    "        temp = temp.replace('\\n', '')\n",
    "        temp_list = temp.split(\" \")\n",
    "        file_list.append(temp_list[1])\n",
    "        \n",
    "    #file2 = open(datapath + \"images.txt\")\n",
    "    #image_list = []\n",
    "    #for i in file2:\n",
    "    #    temp = \"\".join(i)\n",
    "    #    temp = temp.replace('\\n', '')\n",
    "    #    temp_list = temp.split(\" \")\n",
    "    #    image_list.append(temp_list[1])\n",
    "\n",
    "    # 建立路径\n",
    "    origin_path = data_path + origin # 这三个路径请根据实际环境修改\n",
    "    train_path = data_path + train\n",
    "    test_path = data_path + test\n",
    "    label_path = os.listdir(origin_path)\n",
    "    if not os.path.exists(train_path):\n",
    "        os.mkdir(train_path)\n",
    "        for path in label_path:\n",
    "            os.mkdir(train_path + '/' + path)\n",
    "    if not os.path.exists(test_path):\n",
    "        os.mkdir(test_path)\n",
    "        for path in label_path:\n",
    "            os.mkdir(test_path + '/' + path)\n",
    "\n",
    "    # 循环复制\n",
    "    i = 0\n",
    "    for path in label_path:\n",
    "        for pic in os.listdir(origin_path + '/' + path):\n",
    "            if file_list[i] == '1':\n",
    "                try:\n",
    "                    shutil.copy(origin_path + '/' + path + '/' + pic, train_path + '/' + path + '/' + pic)\n",
    "                    print(i,\"from \" + origin_path + '/' + path + '/' + pic + \" to \" + train_path + '/' + path + '/' + pic)\n",
    "                    i += 1\n",
    "                except IOError as e:\n",
    "                    print('Unable to copy file %s' % e)\n",
    "            else:\n",
    "                try:\n",
    "                    shutil.copy(origin_path + '/' + path + '/' + pic, test_path + '/' + path + '/' + pic)\n",
    "                    print(i,\"from \" + origin_path + '/' + path + '/' + pic + \" to \" + test_path + '/' + path + '/' + pic)\n",
    "                    i += 1\n",
    "                except IOError as e:\n",
    "                    print('Unable to copy file %s' % e)\"\"\""
   ]
  },
  {
   "cell_type": "code",
   "execution_count": 44,
   "metadata": {},
   "outputs": [
    {
     "data": {
      "text/plain": [
       "'imgPath = \\'H:/study/academic/UCD/TeamProject/data/Caltech-UCSD_Birds-200-2011/2011/CUB_200_2011/\\'\\norigin = \"images\"\\ntrain = \"train\"\\ntest = \"test\"\\n\\nsplit(imgPath, origin, train, test)'"
      ]
     },
     "execution_count": 44,
     "metadata": {},
     "output_type": "execute_result"
    }
   ],
   "source": [
    "\"\"\"imgPath = 'H:/study/academic/UCD/TeamProject/data/Caltech-UCSD_Birds-200-2011/2011/CUB_200_2011/'\n",
    "origin = \"images\"\n",
    "train = \"train\"\n",
    "test = \"test\"\n",
    "\n",
    "split(imgPath, origin, train, test)\"\"\""
   ]
  },
  {
   "cell_type": "markdown",
   "metadata": {},
   "source": [
    "### Car-196"
   ]
  },
  {
   "cell_type": "code",
   "execution_count": 45,
   "metadata": {},
   "outputs": [
    {
     "data": {
      "text/plain": [
       "'imgPath = \\'H:/study/academic/UCD/TeamProject/data/CarsDataset/\\'\\ntrainPrefix = \"train/\"\\ntestPrefix = \"test/\"\\nfor lines in open(\\'cars_annos.txt\\'):\\n    lines = lines.strip().split(\\',\\')\\n    classInd = int(lines[1])\\n    fname = lines[0].split(\\'/\\')[1]\\n    if classInd <= 98:\\n        ddr = imgPath + trainPrefix + str(classInd)\\n        if not os.path.exists(ddr):\\n            os.makedirs(ddr)\\n        shutil.move(imgPath + lines[0], ddr + \\'/\\' + fname)\\n        print(imgPath + lines[0] +\" to \"+ ddr + \\'/\\' + fname)\\n    else:\\n        ddr = imgPath + testPrefix + lines[1]\\n        if not os.path.exists(ddr):\\n            os.makedirs(ddr)\\n        shutil.move(imgPath + lines[0], ddr + \\'/\\' + fname)\\n        print(imgPath + lines[0] +\" to \"+ ddr + \\'/\\' + fname)'"
      ]
     },
     "execution_count": 45,
     "metadata": {},
     "output_type": "execute_result"
    }
   ],
   "source": [
    "\"\"\"imgPath = 'H:/study/academic/UCD/TeamProject/data/CarsDataset/'\n",
    "trainPrefix = \"train/\"\n",
    "testPrefix = \"test/\"\n",
    "for lines in open('cars_annos.txt'):\n",
    "    lines = lines.strip().split(',')\n",
    "    classInd = int(lines[1])\n",
    "    fname = lines[0].split('/')[1]\n",
    "    if classInd <= 98:\n",
    "        ddr = imgPath + trainPrefix + str(classInd)\n",
    "        if not os.path.exists(ddr):\n",
    "            os.makedirs(ddr)\n",
    "        shutil.move(imgPath + lines[0], ddr + '/' + fname)\n",
    "        print(imgPath + lines[0] +\" to \"+ ddr + '/' + fname)\n",
    "    else:\n",
    "        ddr = imgPath + testPrefix + lines[1]\n",
    "        if not os.path.exists(ddr):\n",
    "            os.makedirs(ddr)\n",
    "        shutil.move(imgPath + lines[0], ddr + '/' + fname)\n",
    "        print(imgPath + lines[0] +\" to \"+ ddr + '/' + fname)\"\"\""
   ]
  },
  {
   "cell_type": "markdown",
   "metadata": {},
   "source": [
    "### Load data"
   ]
  },
  {
   "cell_type": "code",
   "execution_count": 3,
   "metadata": {},
   "outputs": [],
   "source": [
    "\"\"\"\n",
    "    PyTorch Package for SoftTriple Loss\n",
    "\n",
    "    Reference\n",
    "    ICCV'19: \"SoftTriple Loss: Deep Metric Learning Without Triplet Sampling\"\n",
    "\n",
    "    Copyright@Alibaba Group\n",
    "\n",
    "\"\"\"\n",
    "\n",
    "import argparse\n",
    "import os\n",
    "import torch\n",
    "#import torch.nn.parallel\n",
    "import torch.backends.cudnn as cudnn\n",
    "import torch.optim\n",
    "import torch.utils.data\n",
    "#import torch.utils.data.distributed\n",
    "import torchvision.transforms as transforms\n",
    "import torchvision.datasets as datasets\n",
    "import torch.nn as nn\n",
    "from PIL import Image"
   ]
  },
  {
   "cell_type": "code",
   "execution_count": 10,
   "metadata": {},
   "outputs": [],
   "source": [
    "imgPath = 'H:/study/academic/UCD/TeamProject/data/Caltech-UCSD_Birds-200-2011/2011/CUB_200_2011/'\n",
    "#imgPath = os.getcwd()+\"/\"\n",
    "#imgPath = \"H:/study/academic/UCD/TeamProject/TeamStaySafe-master/web/static/program/\"\n",
    "#imgPath = 'H:/study/academic/UCD/TeamProject/data/CarsDataset/'\n",
    "data = imgPath\n",
    "workers=0\n",
    "epochs=10\n",
    "start_epoch=0\n",
    "batch=32\n",
    "modellr=0.0001\n",
    "centerlr=0.01\n",
    "weight_decay=1e-4\n",
    "gpu=0\n",
    "eps=0.01\n",
    "decay_rate=0.1\n",
    "dim=64\n",
    "freeze_BN=True\n",
    "la=20\n",
    "gamma=0.1\n",
    "tau=0.2\n",
    "margin=0.01\n",
    "C=100\n",
    "K=10"
   ]
  },
  {
   "cell_type": "code",
   "execution_count": 11,
   "metadata": {},
   "outputs": [],
   "source": [
    "# load data\n",
    "def RGB2BGR(im):\n",
    "    assert im.mode == 'RGB'\n",
    "    r, g, b = im.split()\n",
    "    return Image.merge('RGB', (b, g, r))\n",
    "def MUL(x):\n",
    "    return x.mul(255)\n",
    "\n",
    "fulldir = 'images/'\n",
    "traindir = 'train1/'\n",
    "testdir = 'test1/'\n",
    "normalize = transforms.Normalize(mean=[104., 117., 128.],\n",
    "                                 std=[1., 1., 1.])\n",
    "\"\"\"\n",
    "full_dataset = datasets.ImageFolder(\n",
    "    imgPath + fulldir, \n",
    "    transforms.Compose([\n",
    "        transforms.Lambda(RGB2BGR),\n",
    "        transforms.Resize(256),\n",
    "        transforms.CenterCrop(224),\n",
    "        transforms.ToTensor(),\n",
    "        transforms.Lambda(MUL),\n",
    "        normalize,\n",
    "    ]))\n",
    "\n",
    "# train test split\n",
    "train_size = int(0.7 * len(full_dataset))\n",
    "test_size = len(full_dataset) - train_size\n",
    "train_dataset, test_dataset = torch.utils.data.random_split(full_dataset, [train_size, test_size])\n",
    "\n",
    "\"\"\"\n",
    "train_dataset = datasets.ImageFolder(\n",
    "    imgPath + traindir,\n",
    "    transforms.Compose([\n",
    "        transforms.Lambda(RGB2BGR),\n",
    "        transforms.RandomResizedCrop(224),\n",
    "        transforms.RandomHorizontalFlip(),\n",
    "        transforms.ToTensor(),\n",
    "        transforms.Lambda(MUL), #?????????????\n",
    "        normalize,\n",
    "    ]))\n",
    "\n",
    "test_dataset = datasets.ImageFolder(\n",
    "    imgPath + testdir, \n",
    "    transforms.Compose([\n",
    "        transforms.Lambda(RGB2BGR),\n",
    "        transforms.Resize(256),\n",
    "        transforms.CenterCrop(224),\n",
    "        transforms.ToTensor(),\n",
    "        transforms.Lambda(MUL),\n",
    "        normalize,\n",
    "    ]))\n",
    "    \n",
    "\n",
    "# check if cuda is available for boost\n",
    "cuda = torch.cuda.is_available()\n",
    "kwargs = {'num_workers': workers, 'pin_memory': True} if cuda else {}\n",
    "train_loader = torch.utils.data.DataLoader(train_dataset, batch_size=batch, shuffle=True,**kwargs)\n",
    "test_loader = torch.utils.data.DataLoader(test_dataset, batch_size=batch, shuffle=False,**kwargs)"
   ]
  },
  {
   "cell_type": "code",
   "execution_count": 12,
   "metadata": {},
   "outputs": [
    {
     "name": "stdout",
     "output_type": "stream",
     "text": [
      "5864\n",
      "5924\n"
     ]
    }
   ],
   "source": [
    "print(len(train_loader.dataset))\n",
    "print(len(test_loader.dataset))"
   ]
  },
  {
   "cell_type": "markdown",
   "metadata": {},
   "source": [
    "## 2. Implementation of SoftTriple Loss"
   ]
  },
  {
   "cell_type": "code",
   "execution_count": 13,
   "metadata": {},
   "outputs": [],
   "source": [
    "import math\n",
    "import torch\n",
    "import torch.nn as nn\n",
    "import torch.nn.functional as F\n",
    "from torch.nn.parameter import Parameter\n",
    "from torch.nn import init"
   ]
  },
  {
   "cell_type": "code",
   "execution_count": 14,
   "metadata": {},
   "outputs": [],
   "source": [
    "class SoftTriple(nn.Module):\n",
    "    def __init__(self, la, gamma, tau, margin, dim, cN, K):\n",
    "        super(SoftTriple, self).__init__()\n",
    "        self.la = la\n",
    "        self.gamma = 1./gamma\n",
    "        self.tau = tau\n",
    "        self.margin = margin\n",
    "        self.cN = cN\n",
    "        self.K = K\n",
    "        self.fc = Parameter(torch.Tensor(dim, cN*K))\n",
    "        self.weight = torch.zeros(cN*K, cN*K, dtype=torch.bool).cuda()\n",
    "        for i in range(0, cN):\n",
    "            for j in range(0, K):\n",
    "                self.weight[i*K+j, i*K+j+1:(i+1)*K] = 1\n",
    "        init.kaiming_uniform_(self.fc, a=math.sqrt(5))\n",
    "        return\n",
    "\n",
    "    def forward(self, input, target):\n",
    "        centers = F.normalize(self.fc, p=2, dim=0)\n",
    "        simInd = input.matmul(centers)\n",
    "        simStruc = simInd.reshape(-1, self.cN, self.K)\n",
    "        prob = F.softmax(simStruc*self.gamma, dim=2)\n",
    "        simClass = torch.sum(prob*simStruc, dim=2)\n",
    "        marginM = torch.zeros(simClass.shape).cuda()\n",
    "        #print(\"Target:\",target)\n",
    "        marginM[torch.arange(0, marginM.shape[0]), target] = self.margin\n",
    "        \n",
    "        lossClassify = F.cross_entropy(self.la*(simClass-marginM), target)\n",
    "        if self.tau > 0 and self.K > 1:\n",
    "            simCenter = centers.t().matmul(centers)\n",
    "            reg = torch.sum(torch.sqrt(2.0+1e-5-2.*simCenter[self.weight]))/(self.cN*self.K*(self.K-1.))\n",
    "            return lossClassify+self.tau*reg\n",
    "        else:\n",
    "            return lossClassify\n"
   ]
  },
  {
   "cell_type": "markdown",
   "metadata": {},
   "source": [
    "## 3. Implementation of BNInception"
   ]
  },
  {
   "cell_type": "code",
   "execution_count": 15,
   "metadata": {},
   "outputs": [],
   "source": [
    "# modify from\n",
    "# https://github.com/Cadene/pretrained-models.pytorch/blob/master/pretrainedmodels/models/bninception.py\n",
    "\n",
    "from __future__ import print_function, division, absolute_import\n",
    "import torch\n",
    "import torch.nn as nn\n",
    "import torch.nn.functional as F\n",
    "import torch.utils.model_zoo as model_zoo"
   ]
  },
  {
   "cell_type": "code",
   "execution_count": 16,
   "metadata": {},
   "outputs": [],
   "source": [
    "__all__ = ['BNInception', 'bninception']\n",
    "\n",
    "pretrained_settings = {\n",
    "    'bninception': {\n",
    "        'imagenet': {\n",
    "            # Was ported using python2 (may trigger warning)\n",
    "            'url': 'http://data.lip6.fr/cadene/pretrainedmodels/bn_inception-52deb4733.pth',\n",
    "            'input_space': 'BGR',\n",
    "            'input_size': [3, 224, 224],\n",
    "            'input_range': [0, 255],\n",
    "            'mean': [104, 117, 128],\n",
    "            'std': [1, 1, 1],\n",
    "            'num_classes': 1000\n",
    "        }\n",
    "    }\n",
    "}"
   ]
  },
  {
   "cell_type": "code",
   "execution_count": 17,
   "metadata": {},
   "outputs": [
    {
     "data": {
      "text/plain": [
       "\"if __name__ == '__main__':\\n\\n    model = bninception()\\n\""
      ]
     },
     "execution_count": 17,
     "metadata": {},
     "output_type": "execute_result"
    }
   ],
   "source": [
    "class BNInception(nn.Module):\n",
    "\n",
    "    def __init__(self, dim=64):\n",
    "        super(BNInception, self).__init__()\n",
    "        inplace = True\n",
    "        self.conv1_7x7_s2 = nn.Conv2d(3, 64, kernel_size=(7, 7), stride=(2, 2), padding=(3, 3))\n",
    "        self.conv1_7x7_s2_bn = nn.BatchNorm2d(64, affine=True)\n",
    "        self.conv1_relu_7x7 = nn.ReLU (inplace)\n",
    "        self.pool1_3x3_s2 = nn.MaxPool2d ((3, 3), stride=(2, 2), dilation=(1, 1), ceil_mode=True)\n",
    "\n",
    "        self.conv2_3x3_reduce = nn.Conv2d(64, 64, kernel_size=(1, 1), stride=(1, 1))\n",
    "        self.conv2_3x3_reduce_bn = nn.BatchNorm2d(64, affine=True)\n",
    "        self.conv2_relu_3x3_reduce = nn.ReLU (inplace)\n",
    "        self.conv2_3x3 = nn.Conv2d(64, 192, kernel_size=(3, 3), stride=(1, 1), padding=(1, 1))\n",
    "        self.conv2_3x3_bn = nn.BatchNorm2d(192, affine=True)\n",
    "        self.conv2_relu_3x3 = nn.ReLU (inplace)\n",
    "        self.pool2_3x3_s2 = nn.MaxPool2d ((3, 3), stride=(2, 2), dilation=(1, 1), ceil_mode=True)\n",
    "\n",
    "        self.inception_3a_1x1 = nn.Conv2d(192, 64, kernel_size=(1, 1), stride=(1, 1))\n",
    "        self.inception_3a_1x1_bn = nn.BatchNorm2d(64, affine=True)\n",
    "        self.inception_3a_relu_1x1 = nn.ReLU (inplace)\n",
    "        self.inception_3a_3x3_reduce = nn.Conv2d(192, 64, kernel_size=(1, 1), stride=(1, 1))\n",
    "        self.inception_3a_3x3_reduce_bn = nn.BatchNorm2d(64, affine=True)\n",
    "        self.inception_3a_relu_3x3_reduce = nn.ReLU (inplace)\n",
    "        self.inception_3a_3x3 = nn.Conv2d(64, 64, kernel_size=(3, 3), stride=(1, 1), padding=(1, 1))\n",
    "        self.inception_3a_3x3_bn = nn.BatchNorm2d(64, affine=True)\n",
    "        self.inception_3a_relu_3x3 = nn.ReLU (inplace)\n",
    "\n",
    "        self.inception_3a_double_3x3_reduce = nn.Conv2d(192, 64, kernel_size=(1, 1), stride=(1, 1))\n",
    "        self.inception_3a_double_3x3_reduce_bn = nn.BatchNorm2d(64, affine=True)\n",
    "        self.inception_3a_relu_double_3x3_reduce = nn.ReLU (inplace)\n",
    "        self.inception_3a_double_3x3_1 = nn.Conv2d(64, 96, kernel_size=(3, 3), stride=(1, 1), padding=(1, 1))\n",
    "        self.inception_3a_double_3x3_1_bn = nn.BatchNorm2d(96, affine=True)\n",
    "        self.inception_3a_relu_double_3x3_1 = nn.ReLU (inplace)\n",
    "        self.inception_3a_double_3x3_2 = nn.Conv2d(96, 96, kernel_size=(3, 3), stride=(1, 1), padding=(1, 1))\n",
    "        self.inception_3a_double_3x3_2_bn = nn.BatchNorm2d(96, affine=True)\n",
    "        self.inception_3a_relu_double_3x3_2 = nn.ReLU (inplace)\n",
    "\n",
    "        self.inception_3a_pool = nn.AvgPool2d (3, stride=1, padding=1, ceil_mode=True, count_include_pad=True)\n",
    "        self.inception_3a_pool_proj = nn.Conv2d(192, 32, kernel_size=(1, 1), stride=(1, 1))\n",
    "        self.inception_3a_pool_proj_bn = nn.BatchNorm2d(32, affine=True)\n",
    "        self.inception_3a_relu_pool_proj = nn.ReLU (inplace)\n",
    "\n",
    "        self.inception_3b_1x1 = nn.Conv2d(256, 64, kernel_size=(1, 1), stride=(1, 1))\n",
    "        self.inception_3b_1x1_bn = nn.BatchNorm2d(64, affine=True)\n",
    "        self.inception_3b_relu_1x1 = nn.ReLU (inplace)\n",
    "        self.inception_3b_3x3_reduce = nn.Conv2d(256, 64, kernel_size=(1, 1), stride=(1, 1))\n",
    "        self.inception_3b_3x3_reduce_bn = nn.BatchNorm2d(64, affine=True)\n",
    "        self.inception_3b_relu_3x3_reduce = nn.ReLU (inplace)\n",
    "        self.inception_3b_3x3 = nn.Conv2d(64, 96, kernel_size=(3, 3), stride=(1, 1), padding=(1, 1))\n",
    "        self.inception_3b_3x3_bn = nn.BatchNorm2d(96, affine=True)\n",
    "        self.inception_3b_relu_3x3 = nn.ReLU (inplace)\n",
    "\n",
    "        self.inception_3b_double_3x3_reduce = nn.Conv2d(256, 64, kernel_size=(1, 1), stride=(1, 1))\n",
    "        self.inception_3b_double_3x3_reduce_bn = nn.BatchNorm2d(64, affine=True)\n",
    "        self.inception_3b_relu_double_3x3_reduce = nn.ReLU (inplace)\n",
    "        self.inception_3b_double_3x3_1 = nn.Conv2d(64, 96, kernel_size=(3, 3), stride=(1, 1), padding=(1, 1))\n",
    "        self.inception_3b_double_3x3_1_bn = nn.BatchNorm2d(96, affine=True)\n",
    "        self.inception_3b_relu_double_3x3_1 = nn.ReLU (inplace)\n",
    "        self.inception_3b_double_3x3_2 = nn.Conv2d(96, 96, kernel_size=(3, 3), stride=(1, 1), padding=(1, 1))\n",
    "        self.inception_3b_double_3x3_2_bn = nn.BatchNorm2d(96, affine=True)\n",
    "        self.inception_3b_relu_double_3x3_2 = nn.ReLU (inplace)\n",
    "\n",
    "        self.inception_3b_pool = nn.AvgPool2d (3, stride=1, padding=1, ceil_mode=True, count_include_pad=True)\n",
    "        self.inception_3b_pool_proj = nn.Conv2d(256, 64, kernel_size=(1, 1), stride=(1, 1))\n",
    "        self.inception_3b_pool_proj_bn = nn.BatchNorm2d(64, affine=True)\n",
    "        self.inception_3b_relu_pool_proj = nn.ReLU (inplace)\n",
    "\n",
    "        self.inception_3c_3x3_reduce = nn.Conv2d(320, 128, kernel_size=(1, 1), stride=(1, 1))\n",
    "        self.inception_3c_3x3_reduce_bn = nn.BatchNorm2d(128, affine=True)\n",
    "        self.inception_3c_relu_3x3_reduce = nn.ReLU (inplace)\n",
    "        self.inception_3c_3x3 = nn.Conv2d(128, 160, kernel_size=(3, 3), stride=(2, 2), padding=(1, 1))\n",
    "        self.inception_3c_3x3_bn = nn.BatchNorm2d(160, affine=True)\n",
    "        self.inception_3c_relu_3x3 = nn.ReLU (inplace)\n",
    "\n",
    "        self.inception_3c_double_3x3_reduce = nn.Conv2d(320, 64, kernel_size=(1, 1), stride=(1, 1))\n",
    "        self.inception_3c_double_3x3_reduce_bn = nn.BatchNorm2d(64, affine=True)\n",
    "        self.inception_3c_relu_double_3x3_reduce = nn.ReLU (inplace)\n",
    "        self.inception_3c_double_3x3_1 = nn.Conv2d(64, 96, kernel_size=(3, 3), stride=(1, 1), padding=(1, 1))\n",
    "        self.inception_3c_double_3x3_1_bn = nn.BatchNorm2d(96, affine=True)\n",
    "        self.inception_3c_relu_double_3x3_1 = nn.ReLU (inplace)\n",
    "        self.inception_3c_double_3x3_2 = nn.Conv2d(96, 96, kernel_size=(3, 3), stride=(2, 2), padding=(1, 1))\n",
    "        self.inception_3c_double_3x3_2_bn = nn.BatchNorm2d(96, affine=True)\n",
    "        self.inception_3c_relu_double_3x3_2 = nn.ReLU (inplace)\n",
    "\n",
    "        self.inception_3c_pool = nn.MaxPool2d ((3, 3), stride=(2, 2), dilation=(1, 1), ceil_mode=True)\n",
    "\n",
    "        self.inception_4a_1x1 = nn.Conv2d(576, 224, kernel_size=(1, 1), stride=(1, 1))\n",
    "        self.inception_4a_1x1_bn = nn.BatchNorm2d(224, affine=True)\n",
    "        self.inception_4a_relu_1x1 = nn.ReLU (inplace)\n",
    "        self.inception_4a_3x3_reduce = nn.Conv2d(576, 64, kernel_size=(1, 1), stride=(1, 1))\n",
    "        self.inception_4a_3x3_reduce_bn = nn.BatchNorm2d(64, affine=True)\n",
    "        self.inception_4a_relu_3x3_reduce = nn.ReLU (inplace)\n",
    "        self.inception_4a_3x3 = nn.Conv2d(64, 96, kernel_size=(3, 3), stride=(1, 1), padding=(1, 1))\n",
    "        self.inception_4a_3x3_bn = nn.BatchNorm2d(96, affine=True)\n",
    "        self.inception_4a_relu_3x3 = nn.ReLU (inplace)\n",
    "        self.inception_4a_double_3x3_reduce = nn.Conv2d(576, 96, kernel_size=(1, 1), stride=(1, 1))\n",
    "        self.inception_4a_double_3x3_reduce_bn = nn.BatchNorm2d(96, affine=True)\n",
    "        self.inception_4a_relu_double_3x3_reduce = nn.ReLU (inplace)\n",
    "        self.inception_4a_double_3x3_1 = nn.Conv2d(96, 128, kernel_size=(3, 3), stride=(1, 1), padding=(1, 1))\n",
    "        self.inception_4a_double_3x3_1_bn = nn.BatchNorm2d(128, affine=True)\n",
    "        self.inception_4a_relu_double_3x3_1 = nn.ReLU (inplace)\n",
    "        self.inception_4a_double_3x3_2 = nn.Conv2d(128, 128, kernel_size=(3, 3), stride=(1, 1), padding=(1, 1))\n",
    "        self.inception_4a_double_3x3_2_bn = nn.BatchNorm2d(128, affine=True)\n",
    "        self.inception_4a_relu_double_3x3_2 = nn.ReLU (inplace)\n",
    "        self.inception_4a_pool = nn.AvgPool2d (3, stride=1, padding=1, ceil_mode=True, count_include_pad=True)\n",
    "        self.inception_4a_pool_proj = nn.Conv2d(576, 128, kernel_size=(1, 1), stride=(1, 1))\n",
    "        self.inception_4a_pool_proj_bn = nn.BatchNorm2d(128, affine=True)\n",
    "        self.inception_4a_relu_pool_proj = nn.ReLU (inplace)\n",
    "\n",
    "        self.inception_4b_1x1 = nn.Conv2d(576, 192, kernel_size=(1, 1), stride=(1, 1))\n",
    "        self.inception_4b_1x1_bn = nn.BatchNorm2d(192, affine=True)\n",
    "        self.inception_4b_relu_1x1 = nn.ReLU (inplace)\n",
    "        self.inception_4b_3x3_reduce = nn.Conv2d(576, 96, kernel_size=(1, 1), stride=(1, 1))\n",
    "        self.inception_4b_3x3_reduce_bn = nn.BatchNorm2d(96, affine=True)\n",
    "        self.inception_4b_relu_3x3_reduce = nn.ReLU (inplace)\n",
    "        self.inception_4b_3x3 = nn.Conv2d(96, 128, kernel_size=(3, 3), stride=(1, 1), padding=(1, 1))\n",
    "        self.inception_4b_3x3_bn = nn.BatchNorm2d(128, affine=True)\n",
    "        self.inception_4b_relu_3x3 = nn.ReLU (inplace)\n",
    "        self.inception_4b_double_3x3_reduce = nn.Conv2d(576, 96, kernel_size=(1, 1), stride=(1, 1))\n",
    "        self.inception_4b_double_3x3_reduce_bn = nn.BatchNorm2d(96, affine=True)\n",
    "        self.inception_4b_relu_double_3x3_reduce = nn.ReLU (inplace)\n",
    "        self.inception_4b_double_3x3_1 = nn.Conv2d(96, 128, kernel_size=(3, 3), stride=(1, 1), padding=(1, 1))\n",
    "        self.inception_4b_double_3x3_1_bn = nn.BatchNorm2d(128, affine=True)\n",
    "        self.inception_4b_relu_double_3x3_1 = nn.ReLU (inplace)\n",
    "        self.inception_4b_double_3x3_2 = nn.Conv2d(128, 128, kernel_size=(3, 3), stride=(1, 1), padding=(1, 1))\n",
    "        self.inception_4b_double_3x3_2_bn = nn.BatchNorm2d(128, affine=True)\n",
    "        self.inception_4b_relu_double_3x3_2 = nn.ReLU (inplace)\n",
    "        self.inception_4b_pool = nn.AvgPool2d (3, stride=1, padding=1, ceil_mode=True, count_include_pad=True)\n",
    "        self.inception_4b_pool_proj = nn.Conv2d(576, 128, kernel_size=(1, 1), stride=(1, 1))\n",
    "        self.inception_4b_pool_proj_bn = nn.BatchNorm2d(128, affine=True)\n",
    "        self.inception_4b_relu_pool_proj = nn.ReLU (inplace)\n",
    "\n",
    "        self.inception_4c_1x1 = nn.Conv2d(576, 160, kernel_size=(1, 1), stride=(1, 1))\n",
    "        self.inception_4c_1x1_bn = nn.BatchNorm2d(160, affine=True)\n",
    "        self.inception_4c_relu_1x1 = nn.ReLU (inplace)\n",
    "        self.inception_4c_3x3_reduce = nn.Conv2d(576, 128, kernel_size=(1, 1), stride=(1, 1))\n",
    "        self.inception_4c_3x3_reduce_bn = nn.BatchNorm2d(128, affine=True)\n",
    "        self.inception_4c_relu_3x3_reduce = nn.ReLU (inplace)\n",
    "        self.inception_4c_3x3 = nn.Conv2d(128, 160, kernel_size=(3, 3), stride=(1, 1), padding=(1, 1))\n",
    "        self.inception_4c_3x3_bn = nn.BatchNorm2d(160, affine=True)\n",
    "        self.inception_4c_relu_3x3 = nn.ReLU (inplace)\n",
    "        self.inception_4c_double_3x3_reduce = nn.Conv2d(576, 128, kernel_size=(1, 1), stride=(1, 1))\n",
    "        self.inception_4c_double_3x3_reduce_bn = nn.BatchNorm2d(128, affine=True)\n",
    "        self.inception_4c_relu_double_3x3_reduce = nn.ReLU (inplace)\n",
    "        self.inception_4c_double_3x3_1 = nn.Conv2d(128, 160, kernel_size=(3, 3), stride=(1, 1), padding=(1, 1))\n",
    "        self.inception_4c_double_3x3_1_bn = nn.BatchNorm2d(160, affine=True)\n",
    "        self.inception_4c_relu_double_3x3_1 = nn.ReLU (inplace)\n",
    "        self.inception_4c_double_3x3_2 = nn.Conv2d(160, 160, kernel_size=(3, 3), stride=(1, 1), padding=(1, 1))\n",
    "        self.inception_4c_double_3x3_2_bn = nn.BatchNorm2d(160, affine=True)\n",
    "        self.inception_4c_relu_double_3x3_2 = nn.ReLU (inplace)\n",
    "        self.inception_4c_pool = nn.AvgPool2d (3, stride=1, padding=1, ceil_mode=True, count_include_pad=True)\n",
    "        self.inception_4c_pool_proj = nn.Conv2d(576, 128, kernel_size=(1, 1), stride=(1, 1))\n",
    "        self.inception_4c_pool_proj_bn = nn.BatchNorm2d(128, affine=True)\n",
    "        self.inception_4c_relu_pool_proj = nn.ReLU (inplace)\n",
    "\n",
    "        self.inception_4d_1x1 = nn.Conv2d(608, 96, kernel_size=(1, 1), stride=(1, 1))\n",
    "        self.inception_4d_1x1_bn = nn.BatchNorm2d(96, affine=True)\n",
    "        self.inception_4d_relu_1x1 = nn.ReLU (inplace)\n",
    "        self.inception_4d_3x3_reduce = nn.Conv2d(608, 128, kernel_size=(1, 1), stride=(1, 1))\n",
    "        self.inception_4d_3x3_reduce_bn = nn.BatchNorm2d(128, affine=True)\n",
    "        self.inception_4d_relu_3x3_reduce = nn.ReLU (inplace)\n",
    "        self.inception_4d_3x3 = nn.Conv2d(128, 192, kernel_size=(3, 3), stride=(1, 1), padding=(1, 1))\n",
    "        self.inception_4d_3x3_bn = nn.BatchNorm2d(192, affine=True)\n",
    "        self.inception_4d_relu_3x3 = nn.ReLU (inplace)\n",
    "        self.inception_4d_double_3x3_reduce = nn.Conv2d(608, 160, kernel_size=(1, 1), stride=(1, 1))\n",
    "        self.inception_4d_double_3x3_reduce_bn = nn.BatchNorm2d(160, affine=True)\n",
    "        self.inception_4d_relu_double_3x3_reduce = nn.ReLU (inplace)\n",
    "        self.inception_4d_double_3x3_1 = nn.Conv2d(160, 192, kernel_size=(3, 3), stride=(1, 1), padding=(1, 1))\n",
    "        self.inception_4d_double_3x3_1_bn = nn.BatchNorm2d(192, affine=True)\n",
    "        self.inception_4d_relu_double_3x3_1 = nn.ReLU (inplace)\n",
    "        self.inception_4d_double_3x3_2 = nn.Conv2d(192, 192, kernel_size=(3, 3), stride=(1, 1), padding=(1, 1))\n",
    "        self.inception_4d_double_3x3_2_bn = nn.BatchNorm2d(192, affine=True)\n",
    "        self.inception_4d_relu_double_3x3_2 = nn.ReLU (inplace)\n",
    "        self.inception_4d_pool = nn.AvgPool2d (3, stride=1, padding=1, ceil_mode=True, count_include_pad=True)\n",
    "        self.inception_4d_pool_proj = nn.Conv2d(608, 128, kernel_size=(1, 1), stride=(1, 1))\n",
    "        self.inception_4d_pool_proj_bn = nn.BatchNorm2d(128, affine=True)\n",
    "        self.inception_4d_relu_pool_proj = nn.ReLU (inplace)\n",
    "\n",
    "        self.inception_4e_3x3_reduce = nn.Conv2d(608, 128, kernel_size=(1, 1), stride=(1, 1))\n",
    "        self.inception_4e_3x3_reduce_bn = nn.BatchNorm2d(128, affine=True)\n",
    "        self.inception_4e_relu_3x3_reduce = nn.ReLU (inplace)\n",
    "        self.inception_4e_3x3 = nn.Conv2d(128, 192, kernel_size=(3, 3), stride=(2, 2), padding=(1, 1))\n",
    "        self.inception_4e_3x3_bn = nn.BatchNorm2d(192, affine=True)\n",
    "        self.inception_4e_relu_3x3 = nn.ReLU (inplace)\n",
    "        self.inception_4e_double_3x3_reduce = nn.Conv2d(608, 192, kernel_size=(1, 1), stride=(1, 1))\n",
    "        self.inception_4e_double_3x3_reduce_bn = nn.BatchNorm2d(192, affine=True)\n",
    "        self.inception_4e_relu_double_3x3_reduce = nn.ReLU (inplace)\n",
    "        self.inception_4e_double_3x3_1 = nn.Conv2d(192, 256, kernel_size=(3, 3), stride=(1, 1), padding=(1, 1))\n",
    "        self.inception_4e_double_3x3_1_bn = nn.BatchNorm2d(256, affine=True)\n",
    "        self.inception_4e_relu_double_3x3_1 = nn.ReLU (inplace)\n",
    "        self.inception_4e_double_3x3_2 = nn.Conv2d(256, 256, kernel_size=(3, 3), stride=(2, 2), padding=(1, 1))\n",
    "        self.inception_4e_double_3x3_2_bn = nn.BatchNorm2d(256, affine=True)\n",
    "        self.inception_4e_relu_double_3x3_2 = nn.ReLU (inplace)\n",
    "        self.inception_4e_pool = nn.MaxPool2d ((3, 3), stride=(2, 2), dilation=(1, 1), ceil_mode=True)\n",
    "\n",
    "        self.inception_5a_1x1 = nn.Conv2d(1056, 352, kernel_size=(1, 1), stride=(1, 1))\n",
    "        self.inception_5a_1x1_bn = nn.BatchNorm2d(352, affine=True)\n",
    "        self.inception_5a_relu_1x1 = nn.ReLU (inplace)\n",
    "        self.inception_5a_3x3_reduce = nn.Conv2d(1056, 192, kernel_size=(1, 1), stride=(1, 1))\n",
    "        self.inception_5a_3x3_reduce_bn = nn.BatchNorm2d(192, affine=True)\n",
    "        self.inception_5a_relu_3x3_reduce = nn.ReLU (inplace)\n",
    "        self.inception_5a_3x3 = nn.Conv2d(192, 320, kernel_size=(3, 3), stride=(1, 1), padding=(1, 1))\n",
    "        self.inception_5a_3x3_bn = nn.BatchNorm2d(320, affine=True)\n",
    "        self.inception_5a_relu_3x3 = nn.ReLU (inplace)\n",
    "        self.inception_5a_double_3x3_reduce = nn.Conv2d(1056, 160, kernel_size=(1, 1), stride=(1, 1))\n",
    "        self.inception_5a_double_3x3_reduce_bn = nn.BatchNorm2d(160, affine=True)\n",
    "        self.inception_5a_relu_double_3x3_reduce = nn.ReLU (inplace)\n",
    "        self.inception_5a_double_3x3_1 = nn.Conv2d(160, 224, kernel_size=(3, 3), stride=(1, 1), padding=(1, 1))\n",
    "        self.inception_5a_double_3x3_1_bn = nn.BatchNorm2d(224, affine=True)\n",
    "        self.inception_5a_relu_double_3x3_1 = nn.ReLU (inplace)\n",
    "        self.inception_5a_double_3x3_2 = nn.Conv2d(224, 224, kernel_size=(3, 3), stride=(1, 1), padding=(1, 1))\n",
    "        self.inception_5a_double_3x3_2_bn = nn.BatchNorm2d(224, affine=True)\n",
    "        self.inception_5a_relu_double_3x3_2 = nn.ReLU (inplace)\n",
    "        self.inception_5a_pool = nn.AvgPool2d (3, stride=1, padding=1, ceil_mode=True, count_include_pad=True)\n",
    "        self.inception_5a_pool_proj = nn.Conv2d(1056, 128, kernel_size=(1, 1), stride=(1, 1))\n",
    "        self.inception_5a_pool_proj_bn = nn.BatchNorm2d(128, affine=True)\n",
    "        self.inception_5a_relu_pool_proj = nn.ReLU (inplace)\n",
    "\n",
    "        self.inception_5b_1x1 = nn.Conv2d(1024, 352, kernel_size=(1, 1), stride=(1, 1))\n",
    "        self.inception_5b_1x1_bn = nn.BatchNorm2d(352, affine=True)\n",
    "        self.inception_5b_relu_1x1 = nn.ReLU (inplace)\n",
    "        self.inception_5b_3x3_reduce = nn.Conv2d(1024, 192, kernel_size=(1, 1), stride=(1, 1))\n",
    "        self.inception_5b_3x3_reduce_bn = nn.BatchNorm2d(192, affine=True)\n",
    "        self.inception_5b_relu_3x3_reduce = nn.ReLU (inplace)\n",
    "        self.inception_5b_3x3 = nn.Conv2d(192, 320, kernel_size=(3, 3), stride=(1, 1), padding=(1, 1))\n",
    "        self.inception_5b_3x3_bn = nn.BatchNorm2d(320, affine=True)\n",
    "        self.inception_5b_relu_3x3 = nn.ReLU(inplace)\n",
    "        self.inception_5b_double_3x3_reduce = nn.Conv2d(1024, 192, kernel_size=(1, 1), stride=(1, 1))\n",
    "        self.inception_5b_double_3x3_reduce_bn = nn.BatchNorm2d(192, affine=True)\n",
    "        self.inception_5b_relu_double_3x3_reduce = nn.ReLU (inplace)\n",
    "        self.inception_5b_double_3x3_1 = nn.Conv2d(192, 224, kernel_size=(3, 3), stride=(1, 1), padding=(1, 1))\n",
    "        self.inception_5b_double_3x3_1_bn = nn.BatchNorm2d(224, affine=True)\n",
    "        self.inception_5b_relu_double_3x3_1 = nn.ReLU (inplace)\n",
    "        self.inception_5b_double_3x3_2 = nn.Conv2d(224, 224, kernel_size=(3, 3), stride=(1, 1), padding=(1, 1))\n",
    "        self.inception_5b_double_3x3_2_bn = nn.BatchNorm2d(224, affine=True)\n",
    "        self.inception_5b_relu_double_3x3_2 = nn.ReLU(inplace)\n",
    "        self.inception_5b_pool = nn.MaxPool2d ((3, 3), stride=(1, 1), padding=(1, 1), dilation=(1, 1), ceil_mode=True)\n",
    "        self.inception_5b_pool_proj = nn.Conv2d(1024, 128, kernel_size=(1, 1), stride=(1, 1))\n",
    "        self.inception_5b_pool_proj_bn = nn.BatchNorm2d(128, affine=True)\n",
    "        self.inception_5b_relu_pool_proj = nn.ReLU(inplace)\n",
    "\n",
    "        self.embedding = nn.Linear(1024, dim)\n",
    "\n",
    "    def features(self, input):\n",
    "        conv1_7x7_s2_out = self.conv1_7x7_s2(input)\n",
    "        conv1_7x7_s2_bn_out = self.conv1_7x7_s2_bn(conv1_7x7_s2_out)\n",
    "        conv1_relu_7x7_out = self.conv1_relu_7x7(conv1_7x7_s2_bn_out)\n",
    "        pool1_3x3_s2_out = self.pool1_3x3_s2(conv1_relu_7x7_out)\n",
    "\n",
    "        conv2_3x3_reduce_out = self.conv2_3x3_reduce(pool1_3x3_s2_out)\n",
    "        conv2_3x3_reduce_bn_out = self.conv2_3x3_reduce_bn(conv2_3x3_reduce_out)\n",
    "        conv2_relu_3x3_reduce_out = self.conv2_relu_3x3_reduce(conv2_3x3_reduce_bn_out)\n",
    "        conv2_3x3_out = self.conv2_3x3(conv2_relu_3x3_reduce_out)\n",
    "        conv2_3x3_bn_out = self.conv2_3x3_bn(conv2_3x3_out)\n",
    "        conv2_relu_3x3_out = self.conv2_relu_3x3(conv2_3x3_bn_out)\n",
    "        pool2_3x3_s2_out = self.pool2_3x3_s2(conv2_relu_3x3_out)\n",
    "\n",
    "        inception_3a_1x1_out = self.inception_3a_1x1(pool2_3x3_s2_out)\n",
    "        inception_3a_1x1_bn_out = self.inception_3a_1x1_bn(inception_3a_1x1_out)\n",
    "        inception_3a_relu_1x1_out = self.inception_3a_relu_1x1(inception_3a_1x1_bn_out)\n",
    "        inception_3a_3x3_reduce_out = self.inception_3a_3x3_reduce(pool2_3x3_s2_out)\n",
    "        inception_3a_3x3_reduce_bn_out = self.inception_3a_3x3_reduce_bn(inception_3a_3x3_reduce_out)\n",
    "        inception_3a_relu_3x3_reduce_out = self.inception_3a_relu_3x3_reduce(inception_3a_3x3_reduce_bn_out)\n",
    "        inception_3a_3x3_out = self.inception_3a_3x3(inception_3a_relu_3x3_reduce_out)\n",
    "        inception_3a_3x3_bn_out = self.inception_3a_3x3_bn(inception_3a_3x3_out)\n",
    "        inception_3a_relu_3x3_out = self.inception_3a_relu_3x3(inception_3a_3x3_bn_out)\n",
    "        inception_3a_double_3x3_reduce_out = self.inception_3a_double_3x3_reduce(pool2_3x3_s2_out)\n",
    "        inception_3a_double_3x3_reduce_bn_out = self.inception_3a_double_3x3_reduce_bn(inception_3a_double_3x3_reduce_out)\n",
    "        inception_3a_relu_double_3x3_reduce_out = self.inception_3a_relu_double_3x3_reduce(inception_3a_double_3x3_reduce_bn_out)\n",
    "        inception_3a_double_3x3_1_out = self.inception_3a_double_3x3_1(inception_3a_relu_double_3x3_reduce_out)\n",
    "        inception_3a_double_3x3_1_bn_out = self.inception_3a_double_3x3_1_bn(inception_3a_double_3x3_1_out)\n",
    "        inception_3a_relu_double_3x3_1_out = self.inception_3a_relu_double_3x3_1(inception_3a_double_3x3_1_bn_out)\n",
    "        inception_3a_double_3x3_2_out = self.inception_3a_double_3x3_2(inception_3a_relu_double_3x3_1_out)\n",
    "        inception_3a_double_3x3_2_bn_out = self.inception_3a_double_3x3_2_bn(inception_3a_double_3x3_2_out)\n",
    "        inception_3a_relu_double_3x3_2_out = self.inception_3a_relu_double_3x3_2(inception_3a_double_3x3_2_bn_out)\n",
    "        inception_3a_pool_out = self.inception_3a_pool(pool2_3x3_s2_out)\n",
    "        inception_3a_pool_proj_out = self.inception_3a_pool_proj(inception_3a_pool_out)\n",
    "        inception_3a_pool_proj_bn_out = self.inception_3a_pool_proj_bn(inception_3a_pool_proj_out)\n",
    "        inception_3a_relu_pool_proj_out = self.inception_3a_relu_pool_proj(inception_3a_pool_proj_bn_out)\n",
    "        inception_3a_output_out = torch.cat([inception_3a_relu_1x1_out,inception_3a_relu_3x3_out,inception_3a_relu_double_3x3_2_out ,inception_3a_relu_pool_proj_out], 1)\n",
    "        inception_3b_1x1_out = self.inception_3b_1x1(inception_3a_output_out)\n",
    "        inception_3b_1x1_bn_out = self.inception_3b_1x1_bn(inception_3b_1x1_out)\n",
    "        inception_3b_relu_1x1_out = self.inception_3b_relu_1x1(inception_3b_1x1_bn_out)\n",
    "        inception_3b_3x3_reduce_out = self.inception_3b_3x3_reduce(inception_3a_output_out)\n",
    "        inception_3b_3x3_reduce_bn_out = self.inception_3b_3x3_reduce_bn(inception_3b_3x3_reduce_out)\n",
    "        inception_3b_relu_3x3_reduce_out = self.inception_3b_relu_3x3_reduce(inception_3b_3x3_reduce_bn_out)\n",
    "        inception_3b_3x3_out = self.inception_3b_3x3(inception_3b_relu_3x3_reduce_out)\n",
    "        inception_3b_3x3_bn_out = self.inception_3b_3x3_bn(inception_3b_3x3_out)\n",
    "        inception_3b_relu_3x3_out = self.inception_3b_relu_3x3(inception_3b_3x3_bn_out)\n",
    "        inception_3b_double_3x3_reduce_out = self.inception_3b_double_3x3_reduce(inception_3a_output_out)\n",
    "        inception_3b_double_3x3_reduce_bn_out = self.inception_3b_double_3x3_reduce_bn(inception_3b_double_3x3_reduce_out)\n",
    "        inception_3b_relu_double_3x3_reduce_out = self.inception_3b_relu_double_3x3_reduce(inception_3b_double_3x3_reduce_bn_out)\n",
    "        inception_3b_double_3x3_1_out = self.inception_3b_double_3x3_1(inception_3b_relu_double_3x3_reduce_out)\n",
    "        inception_3b_double_3x3_1_bn_out = self.inception_3b_double_3x3_1_bn(inception_3b_double_3x3_1_out)\n",
    "        inception_3b_relu_double_3x3_1_out = self.inception_3b_relu_double_3x3_1(inception_3b_double_3x3_1_bn_out)\n",
    "        inception_3b_double_3x3_2_out = self.inception_3b_double_3x3_2(inception_3b_relu_double_3x3_1_out)\n",
    "        inception_3b_double_3x3_2_bn_out = self.inception_3b_double_3x3_2_bn(inception_3b_double_3x3_2_out)\n",
    "        inception_3b_relu_double_3x3_2_out = self.inception_3b_relu_double_3x3_2(inception_3b_double_3x3_2_bn_out)\n",
    "        inception_3b_pool_out = self.inception_3b_pool(inception_3a_output_out)\n",
    "        inception_3b_pool_proj_out = self.inception_3b_pool_proj(inception_3b_pool_out)\n",
    "        inception_3b_pool_proj_bn_out = self.inception_3b_pool_proj_bn(inception_3b_pool_proj_out)\n",
    "        inception_3b_relu_pool_proj_out = self.inception_3b_relu_pool_proj(inception_3b_pool_proj_bn_out)\n",
    "        inception_3b_output_out = torch.cat([inception_3b_relu_1x1_out,inception_3b_relu_3x3_out,inception_3b_relu_double_3x3_2_out,inception_3b_relu_pool_proj_out], 1)\n",
    "        inception_3c_3x3_reduce_out = self.inception_3c_3x3_reduce(inception_3b_output_out)\n",
    "        inception_3c_3x3_reduce_bn_out = self.inception_3c_3x3_reduce_bn(inception_3c_3x3_reduce_out)\n",
    "        inception_3c_relu_3x3_reduce_out = self.inception_3c_relu_3x3_reduce(inception_3c_3x3_reduce_bn_out)\n",
    "        inception_3c_3x3_out = self.inception_3c_3x3(inception_3c_relu_3x3_reduce_out)\n",
    "        inception_3c_3x3_bn_out = self.inception_3c_3x3_bn(inception_3c_3x3_out)\n",
    "        inception_3c_relu_3x3_out = self.inception_3c_relu_3x3(inception_3c_3x3_bn_out)\n",
    "        inception_3c_double_3x3_reduce_out = self.inception_3c_double_3x3_reduce(inception_3b_output_out)\n",
    "        inception_3c_double_3x3_reduce_bn_out = self.inception_3c_double_3x3_reduce_bn(inception_3c_double_3x3_reduce_out)\n",
    "        inception_3c_relu_double_3x3_reduce_out = self.inception_3c_relu_double_3x3_reduce(inception_3c_double_3x3_reduce_bn_out)\n",
    "        inception_3c_double_3x3_1_out = self.inception_3c_double_3x3_1(inception_3c_relu_double_3x3_reduce_out)\n",
    "        inception_3c_double_3x3_1_bn_out = self.inception_3c_double_3x3_1_bn(inception_3c_double_3x3_1_out)\n",
    "        inception_3c_relu_double_3x3_1_out = self.inception_3c_relu_double_3x3_1(inception_3c_double_3x3_1_bn_out)\n",
    "        inception_3c_double_3x3_2_out = self.inception_3c_double_3x3_2(inception_3c_relu_double_3x3_1_out)\n",
    "        inception_3c_double_3x3_2_bn_out = self.inception_3c_double_3x3_2_bn(inception_3c_double_3x3_2_out)\n",
    "        inception_3c_relu_double_3x3_2_out = self.inception_3c_relu_double_3x3_2(inception_3c_double_3x3_2_bn_out)\n",
    "        inception_3c_pool_out = self.inception_3c_pool(inception_3b_output_out)\n",
    "        inception_3c_output_out = torch.cat([inception_3c_relu_3x3_out,inception_3c_relu_double_3x3_2_out,inception_3c_pool_out], 1)\n",
    "        inception_4a_1x1_out = self.inception_4a_1x1(inception_3c_output_out)\n",
    "        inception_4a_1x1_bn_out = self.inception_4a_1x1_bn(inception_4a_1x1_out)\n",
    "        inception_4a_relu_1x1_out = self.inception_4a_relu_1x1(inception_4a_1x1_bn_out)\n",
    "        inception_4a_3x3_reduce_out = self.inception_4a_3x3_reduce(inception_3c_output_out)\n",
    "        inception_4a_3x3_reduce_bn_out = self.inception_4a_3x3_reduce_bn(inception_4a_3x3_reduce_out)\n",
    "        inception_4a_relu_3x3_reduce_out = self.inception_4a_relu_3x3_reduce(inception_4a_3x3_reduce_bn_out)\n",
    "        inception_4a_3x3_out = self.inception_4a_3x3(inception_4a_relu_3x3_reduce_out)\n",
    "        inception_4a_3x3_bn_out = self.inception_4a_3x3_bn(inception_4a_3x3_out)\n",
    "        inception_4a_relu_3x3_out = self.inception_4a_relu_3x3(inception_4a_3x3_bn_out)\n",
    "        inception_4a_double_3x3_reduce_out = self.inception_4a_double_3x3_reduce(inception_3c_output_out)\n",
    "        inception_4a_double_3x3_reduce_bn_out = self.inception_4a_double_3x3_reduce_bn(inception_4a_double_3x3_reduce_out)\n",
    "        inception_4a_relu_double_3x3_reduce_out = self.inception_4a_relu_double_3x3_reduce(inception_4a_double_3x3_reduce_bn_out)\n",
    "        inception_4a_double_3x3_1_out = self.inception_4a_double_3x3_1(inception_4a_relu_double_3x3_reduce_out)\n",
    "        inception_4a_double_3x3_1_bn_out = self.inception_4a_double_3x3_1_bn(inception_4a_double_3x3_1_out)\n",
    "        inception_4a_relu_double_3x3_1_out = self.inception_4a_relu_double_3x3_1(inception_4a_double_3x3_1_bn_out)\n",
    "        inception_4a_double_3x3_2_out = self.inception_4a_double_3x3_2(inception_4a_relu_double_3x3_1_out)\n",
    "        inception_4a_double_3x3_2_bn_out = self.inception_4a_double_3x3_2_bn(inception_4a_double_3x3_2_out)\n",
    "        inception_4a_relu_double_3x3_2_out = self.inception_4a_relu_double_3x3_2(inception_4a_double_3x3_2_bn_out)\n",
    "        inception_4a_pool_out = self.inception_4a_pool(inception_3c_output_out)\n",
    "        inception_4a_pool_proj_out = self.inception_4a_pool_proj(inception_4a_pool_out)\n",
    "        inception_4a_pool_proj_bn_out = self.inception_4a_pool_proj_bn(inception_4a_pool_proj_out)\n",
    "        inception_4a_relu_pool_proj_out = self.inception_4a_relu_pool_proj(inception_4a_pool_proj_bn_out)\n",
    "        inception_4a_output_out = torch.cat([inception_4a_relu_1x1_out,inception_4a_relu_3x3_out,inception_4a_relu_double_3x3_2_out,inception_4a_relu_pool_proj_out], 1)\n",
    "        inception_4b_1x1_out = self.inception_4b_1x1(inception_4a_output_out)\n",
    "        inception_4b_1x1_bn_out = self.inception_4b_1x1_bn(inception_4b_1x1_out)\n",
    "        inception_4b_relu_1x1_out = self.inception_4b_relu_1x1(inception_4b_1x1_bn_out)\n",
    "        inception_4b_3x3_reduce_out = self.inception_4b_3x3_reduce(inception_4a_output_out)\n",
    "        inception_4b_3x3_reduce_bn_out = self.inception_4b_3x3_reduce_bn(inception_4b_3x3_reduce_out)\n",
    "        inception_4b_relu_3x3_reduce_out = self.inception_4b_relu_3x3_reduce(inception_4b_3x3_reduce_bn_out)\n",
    "        inception_4b_3x3_out = self.inception_4b_3x3(inception_4b_relu_3x3_reduce_out)\n",
    "        inception_4b_3x3_bn_out = self.inception_4b_3x3_bn(inception_4b_3x3_out)\n",
    "        inception_4b_relu_3x3_out = self.inception_4b_relu_3x3(inception_4b_3x3_bn_out)\n",
    "        inception_4b_double_3x3_reduce_out = self.inception_4b_double_3x3_reduce(inception_4a_output_out)\n",
    "        inception_4b_double_3x3_reduce_bn_out = self.inception_4b_double_3x3_reduce_bn(inception_4b_double_3x3_reduce_out)\n",
    "        inception_4b_relu_double_3x3_reduce_out = self.inception_4b_relu_double_3x3_reduce(inception_4b_double_3x3_reduce_bn_out)\n",
    "        inception_4b_double_3x3_1_out = self.inception_4b_double_3x3_1(inception_4b_relu_double_3x3_reduce_out)\n",
    "        inception_4b_double_3x3_1_bn_out = self.inception_4b_double_3x3_1_bn(inception_4b_double_3x3_1_out)\n",
    "        inception_4b_relu_double_3x3_1_out = self.inception_4b_relu_double_3x3_1(inception_4b_double_3x3_1_bn_out)\n",
    "        inception_4b_double_3x3_2_out = self.inception_4b_double_3x3_2(inception_4b_relu_double_3x3_1_out)\n",
    "        inception_4b_double_3x3_2_bn_out = self.inception_4b_double_3x3_2_bn(inception_4b_double_3x3_2_out)\n",
    "        inception_4b_relu_double_3x3_2_out = self.inception_4b_relu_double_3x3_2(inception_4b_double_3x3_2_bn_out)\n",
    "        inception_4b_pool_out = self.inception_4b_pool(inception_4a_output_out)\n",
    "        inception_4b_pool_proj_out = self.inception_4b_pool_proj(inception_4b_pool_out)\n",
    "        inception_4b_pool_proj_bn_out = self.inception_4b_pool_proj_bn(inception_4b_pool_proj_out)\n",
    "        inception_4b_relu_pool_proj_out = self.inception_4b_relu_pool_proj(inception_4b_pool_proj_bn_out)\n",
    "        inception_4b_output_out = torch.cat([inception_4b_relu_1x1_out,inception_4b_relu_3x3_out,inception_4b_relu_double_3x3_2_out,inception_4b_relu_pool_proj_out], 1)\n",
    "        inception_4c_1x1_out = self.inception_4c_1x1(inception_4b_output_out)\n",
    "        inception_4c_1x1_bn_out = self.inception_4c_1x1_bn(inception_4c_1x1_out)\n",
    "        inception_4c_relu_1x1_out = self.inception_4c_relu_1x1(inception_4c_1x1_bn_out)\n",
    "        inception_4c_3x3_reduce_out = self.inception_4c_3x3_reduce(inception_4b_output_out)\n",
    "        inception_4c_3x3_reduce_bn_out = self.inception_4c_3x3_reduce_bn(inception_4c_3x3_reduce_out)\n",
    "        inception_4c_relu_3x3_reduce_out = self.inception_4c_relu_3x3_reduce(inception_4c_3x3_reduce_bn_out)\n",
    "        inception_4c_3x3_out = self.inception_4c_3x3(inception_4c_relu_3x3_reduce_out)\n",
    "        inception_4c_3x3_bn_out = self.inception_4c_3x3_bn(inception_4c_3x3_out)\n",
    "        inception_4c_relu_3x3_out = self.inception_4c_relu_3x3(inception_4c_3x3_bn_out)\n",
    "        inception_4c_double_3x3_reduce_out = self.inception_4c_double_3x3_reduce(inception_4b_output_out)\n",
    "        inception_4c_double_3x3_reduce_bn_out = self.inception_4c_double_3x3_reduce_bn(inception_4c_double_3x3_reduce_out)\n",
    "        inception_4c_relu_double_3x3_reduce_out = self.inception_4c_relu_double_3x3_reduce(inception_4c_double_3x3_reduce_bn_out)\n",
    "        inception_4c_double_3x3_1_out = self.inception_4c_double_3x3_1(inception_4c_relu_double_3x3_reduce_out)\n",
    "        inception_4c_double_3x3_1_bn_out = self.inception_4c_double_3x3_1_bn(inception_4c_double_3x3_1_out)\n",
    "        inception_4c_relu_double_3x3_1_out = self.inception_4c_relu_double_3x3_1(inception_4c_double_3x3_1_bn_out)\n",
    "        inception_4c_double_3x3_2_out = self.inception_4c_double_3x3_2(inception_4c_relu_double_3x3_1_out)\n",
    "        inception_4c_double_3x3_2_bn_out = self.inception_4c_double_3x3_2_bn(inception_4c_double_3x3_2_out)\n",
    "        inception_4c_relu_double_3x3_2_out = self.inception_4c_relu_double_3x3_2(inception_4c_double_3x3_2_bn_out)\n",
    "        inception_4c_pool_out = self.inception_4c_pool(inception_4b_output_out)\n",
    "        inception_4c_pool_proj_out = self.inception_4c_pool_proj(inception_4c_pool_out)\n",
    "        inception_4c_pool_proj_bn_out = self.inception_4c_pool_proj_bn(inception_4c_pool_proj_out)\n",
    "        inception_4c_relu_pool_proj_out = self.inception_4c_relu_pool_proj(inception_4c_pool_proj_bn_out)\n",
    "        inception_4c_output_out = torch.cat([inception_4c_relu_1x1_out,inception_4c_relu_3x3_out,inception_4c_relu_double_3x3_2_out,inception_4c_relu_pool_proj_out], 1)\n",
    "        inception_4d_1x1_out = self.inception_4d_1x1(inception_4c_output_out)\n",
    "        inception_4d_1x1_bn_out = self.inception_4d_1x1_bn(inception_4d_1x1_out)\n",
    "        inception_4d_relu_1x1_out = self.inception_4d_relu_1x1(inception_4d_1x1_bn_out)\n",
    "        inception_4d_3x3_reduce_out = self.inception_4d_3x3_reduce(inception_4c_output_out)\n",
    "        inception_4d_3x3_reduce_bn_out = self.inception_4d_3x3_reduce_bn(inception_4d_3x3_reduce_out)\n",
    "        inception_4d_relu_3x3_reduce_out = self.inception_4d_relu_3x3_reduce(inception_4d_3x3_reduce_bn_out)\n",
    "        inception_4d_3x3_out = self.inception_4d_3x3(inception_4d_relu_3x3_reduce_out)\n",
    "        inception_4d_3x3_bn_out = self.inception_4d_3x3_bn(inception_4d_3x3_out)\n",
    "        inception_4d_relu_3x3_out = self.inception_4d_relu_3x3(inception_4d_3x3_bn_out)\n",
    "        inception_4d_double_3x3_reduce_out = self.inception_4d_double_3x3_reduce(inception_4c_output_out)\n",
    "        inception_4d_double_3x3_reduce_bn_out = self.inception_4d_double_3x3_reduce_bn(inception_4d_double_3x3_reduce_out)\n",
    "        inception_4d_relu_double_3x3_reduce_out = self.inception_4d_relu_double_3x3_reduce(inception_4d_double_3x3_reduce_bn_out)\n",
    "        inception_4d_double_3x3_1_out = self.inception_4d_double_3x3_1(inception_4d_relu_double_3x3_reduce_out)\n",
    "        inception_4d_double_3x3_1_bn_out = self.inception_4d_double_3x3_1_bn(inception_4d_double_3x3_1_out)\n",
    "        inception_4d_relu_double_3x3_1_out = self.inception_4d_relu_double_3x3_1(inception_4d_double_3x3_1_bn_out)\n",
    "        inception_4d_double_3x3_2_out = self.inception_4d_double_3x3_2(inception_4d_relu_double_3x3_1_out)\n",
    "        inception_4d_double_3x3_2_bn_out = self.inception_4d_double_3x3_2_bn(inception_4d_double_3x3_2_out)\n",
    "        inception_4d_relu_double_3x3_2_out = self.inception_4d_relu_double_3x3_2(inception_4d_double_3x3_2_bn_out)\n",
    "        inception_4d_pool_out = self.inception_4d_pool(inception_4c_output_out)\n",
    "        inception_4d_pool_proj_out = self.inception_4d_pool_proj(inception_4d_pool_out)\n",
    "        inception_4d_pool_proj_bn_out = self.inception_4d_pool_proj_bn(inception_4d_pool_proj_out)\n",
    "        inception_4d_relu_pool_proj_out = self.inception_4d_relu_pool_proj(inception_4d_pool_proj_bn_out)\n",
    "        inception_4d_output_out = torch.cat([inception_4d_relu_1x1_out,inception_4d_relu_3x3_out,inception_4d_relu_double_3x3_2_out,inception_4d_relu_pool_proj_out], 1)\n",
    "        inception_4e_3x3_reduce_out = self.inception_4e_3x3_reduce(inception_4d_output_out)\n",
    "        inception_4e_3x3_reduce_bn_out = self.inception_4e_3x3_reduce_bn(inception_4e_3x3_reduce_out)\n",
    "        inception_4e_relu_3x3_reduce_out = self.inception_4e_relu_3x3_reduce(inception_4e_3x3_reduce_bn_out)\n",
    "        inception_4e_3x3_out = self.inception_4e_3x3(inception_4e_relu_3x3_reduce_out)\n",
    "        inception_4e_3x3_bn_out = self.inception_4e_3x3_bn(inception_4e_3x3_out)\n",
    "        inception_4e_relu_3x3_out = self.inception_4e_relu_3x3(inception_4e_3x3_bn_out)\n",
    "        inception_4e_double_3x3_reduce_out = self.inception_4e_double_3x3_reduce(inception_4d_output_out)\n",
    "        inception_4e_double_3x3_reduce_bn_out = self.inception_4e_double_3x3_reduce_bn(inception_4e_double_3x3_reduce_out)\n",
    "        inception_4e_relu_double_3x3_reduce_out = self.inception_4e_relu_double_3x3_reduce(inception_4e_double_3x3_reduce_bn_out)\n",
    "        inception_4e_double_3x3_1_out = self.inception_4e_double_3x3_1(inception_4e_relu_double_3x3_reduce_out)\n",
    "        inception_4e_double_3x3_1_bn_out = self.inception_4e_double_3x3_1_bn(inception_4e_double_3x3_1_out)\n",
    "        inception_4e_relu_double_3x3_1_out = self.inception_4e_relu_double_3x3_1(inception_4e_double_3x3_1_bn_out)\n",
    "        inception_4e_double_3x3_2_out = self.inception_4e_double_3x3_2(inception_4e_relu_double_3x3_1_out)\n",
    "        inception_4e_double_3x3_2_bn_out = self.inception_4e_double_3x3_2_bn(inception_4e_double_3x3_2_out)\n",
    "        inception_4e_relu_double_3x3_2_out = self.inception_4e_relu_double_3x3_2(inception_4e_double_3x3_2_bn_out)\n",
    "        inception_4e_pool_out = self.inception_4e_pool(inception_4d_output_out)\n",
    "        inception_4e_output_out = torch.cat([inception_4e_relu_3x3_out,inception_4e_relu_double_3x3_2_out,inception_4e_pool_out], 1)\n",
    "        inception_5a_1x1_out = self.inception_5a_1x1(inception_4e_output_out)\n",
    "        inception_5a_1x1_bn_out = self.inception_5a_1x1_bn(inception_5a_1x1_out)\n",
    "        inception_5a_relu_1x1_out = self.inception_5a_relu_1x1(inception_5a_1x1_bn_out)\n",
    "        inception_5a_3x3_reduce_out = self.inception_5a_3x3_reduce(inception_4e_output_out)\n",
    "        inception_5a_3x3_reduce_bn_out = self.inception_5a_3x3_reduce_bn(inception_5a_3x3_reduce_out)\n",
    "        inception_5a_relu_3x3_reduce_out = self.inception_5a_relu_3x3_reduce(inception_5a_3x3_reduce_bn_out)\n",
    "        inception_5a_3x3_out = self.inception_5a_3x3(inception_5a_relu_3x3_reduce_out)\n",
    "        inception_5a_3x3_bn_out = self.inception_5a_3x3_bn(inception_5a_3x3_out)\n",
    "        inception_5a_relu_3x3_out = self.inception_5a_relu_3x3(inception_5a_3x3_bn_out)\n",
    "        inception_5a_double_3x3_reduce_out = self.inception_5a_double_3x3_reduce(inception_4e_output_out)\n",
    "        inception_5a_double_3x3_reduce_bn_out = self.inception_5a_double_3x3_reduce_bn(inception_5a_double_3x3_reduce_out)\n",
    "        inception_5a_relu_double_3x3_reduce_out = self.inception_5a_relu_double_3x3_reduce(inception_5a_double_3x3_reduce_bn_out)\n",
    "        inception_5a_double_3x3_1_out = self.inception_5a_double_3x3_1(inception_5a_relu_double_3x3_reduce_out)\n",
    "        inception_5a_double_3x3_1_bn_out = self.inception_5a_double_3x3_1_bn(inception_5a_double_3x3_1_out)\n",
    "        inception_5a_relu_double_3x3_1_out = self.inception_5a_relu_double_3x3_1(inception_5a_double_3x3_1_bn_out)\n",
    "        inception_5a_double_3x3_2_out = self.inception_5a_double_3x3_2(inception_5a_relu_double_3x3_1_out)\n",
    "        inception_5a_double_3x3_2_bn_out = self.inception_5a_double_3x3_2_bn(inception_5a_double_3x3_2_out)\n",
    "        inception_5a_relu_double_3x3_2_out = self.inception_5a_relu_double_3x3_2(inception_5a_double_3x3_2_bn_out)\n",
    "        inception_5a_pool_out = self.inception_5a_pool(inception_4e_output_out)\n",
    "        inception_5a_pool_proj_out = self.inception_5a_pool_proj(inception_5a_pool_out)\n",
    "        inception_5a_pool_proj_bn_out = self.inception_5a_pool_proj_bn(inception_5a_pool_proj_out)\n",
    "        inception_5a_relu_pool_proj_out = self.inception_5a_relu_pool_proj(inception_5a_pool_proj_bn_out)\n",
    "        inception_5a_output_out = torch.cat([inception_5a_relu_1x1_out,inception_5a_relu_3x3_out,inception_5a_relu_double_3x3_2_out,inception_5a_relu_pool_proj_out], 1)\n",
    "        inception_5b_1x1_out = self.inception_5b_1x1(inception_5a_output_out)\n",
    "        inception_5b_1x1_bn_out = self.inception_5b_1x1_bn(inception_5b_1x1_out)\n",
    "        inception_5b_relu_1x1_out = self.inception_5b_relu_1x1(inception_5b_1x1_bn_out)\n",
    "        inception_5b_3x3_reduce_out = self.inception_5b_3x3_reduce(inception_5a_output_out)\n",
    "        inception_5b_3x3_reduce_bn_out = self.inception_5b_3x3_reduce_bn(inception_5b_3x3_reduce_out)\n",
    "        inception_5b_relu_3x3_reduce_out = self.inception_5b_relu_3x3_reduce(inception_5b_3x3_reduce_bn_out)\n",
    "        inception_5b_3x3_out = self.inception_5b_3x3(inception_5b_relu_3x3_reduce_out)\n",
    "        inception_5b_3x3_bn_out = self.inception_5b_3x3_bn(inception_5b_3x3_out)\n",
    "        inception_5b_relu_3x3_out = self.inception_5b_relu_3x3(inception_5b_3x3_bn_out)\n",
    "        inception_5b_double_3x3_reduce_out = self.inception_5b_double_3x3_reduce(inception_5a_output_out)\n",
    "        inception_5b_double_3x3_reduce_bn_out = self.inception_5b_double_3x3_reduce_bn(inception_5b_double_3x3_reduce_out)\n",
    "        inception_5b_relu_double_3x3_reduce_out = self.inception_5b_relu_double_3x3_reduce(inception_5b_double_3x3_reduce_bn_out)\n",
    "        inception_5b_double_3x3_1_out = self.inception_5b_double_3x3_1(inception_5b_relu_double_3x3_reduce_out)\n",
    "        inception_5b_double_3x3_1_bn_out = self.inception_5b_double_3x3_1_bn(inception_5b_double_3x3_1_out)\n",
    "        inception_5b_relu_double_3x3_1_out = self.inception_5b_relu_double_3x3_1(inception_5b_double_3x3_1_bn_out)\n",
    "        inception_5b_double_3x3_2_out = self.inception_5b_double_3x3_2(inception_5b_relu_double_3x3_1_out)\n",
    "        inception_5b_double_3x3_2_bn_out = self.inception_5b_double_3x3_2_bn(inception_5b_double_3x3_2_out)\n",
    "        inception_5b_relu_double_3x3_2_out = self.inception_5b_relu_double_3x3_2(inception_5b_double_3x3_2_bn_out)\n",
    "        inception_5b_pool_out = self.inception_5b_pool(inception_5a_output_out)\n",
    "        inception_5b_pool_proj_out = self.inception_5b_pool_proj(inception_5b_pool_out)\n",
    "        inception_5b_pool_proj_bn_out = self.inception_5b_pool_proj_bn(inception_5b_pool_proj_out)\n",
    "        inception_5b_relu_pool_proj_out = self.inception_5b_relu_pool_proj(inception_5b_pool_proj_bn_out)\n",
    "        inception_5b_output_out = torch.cat([inception_5b_relu_1x1_out,inception_5b_relu_3x3_out,inception_5b_relu_double_3x3_2_out,inception_5b_relu_pool_proj_out], 1)\n",
    "        return inception_5b_output_out\n",
    "\n",
    "    def forward(self, input):\n",
    "        x = self.features(input)\n",
    "        adaptiveAvgPoolWidth = x.shape[2]\n",
    "        x = F.avg_pool2d(x, kernel_size=adaptiveAvgPoolWidth)\n",
    "        x = x.view(x.size(0), -1)\n",
    "        x = self.embedding(x)\n",
    "        x = F.normalize(x, p=2, dim=1)\n",
    "        return x\n",
    "\n",
    "\n",
    "def bninception(dim=64, pretrained='imagenet'):\n",
    "    r\"\"\"BNInception model architecture from <https://arxiv.org/pdf/1502.03167.pdf>`_ paper.\n",
    "    \"\"\"\n",
    "    model = BNInception(dim=dim)\n",
    "    if pretrained is not None:\n",
    "        settings = pretrained_settings['bninception'][pretrained]\n",
    "        model_dict = model.state_dict()\n",
    "        pretrained_dict = model_zoo.load_url(settings['url'])\n",
    "        pretrained_dict = {k: v for k, v in pretrained_dict.items() if k in model_dict}\n",
    "        model_dict.update(pretrained_dict)\n",
    "        model.load_state_dict(model_dict)\n",
    "    return model\n",
    "\n",
    "\"\"\"if __name__ == '__main__':\n",
    "\n",
    "    model = bninception()\n",
    "\"\"\""
   ]
  },
  {
   "cell_type": "markdown",
   "metadata": {},
   "source": [
    "## 4. Train the model"
   ]
  },
  {
   "cell_type": "markdown",
   "metadata": {},
   "source": [
    "### create model"
   ]
  },
  {
   "cell_type": "code",
   "execution_count": 18,
   "metadata": {},
   "outputs": [
    {
     "data": {
      "text/plain": [
       "True"
      ]
     },
     "execution_count": 18,
     "metadata": {},
     "output_type": "execute_result"
    }
   ],
   "source": [
    "torch.cuda.is_available()"
   ]
  },
  {
   "cell_type": "code",
   "execution_count": 13,
   "metadata": {},
   "outputs": [],
   "source": [
    "# create model\n",
    "model = bninception(dim)\n",
    "torch.cuda.set_device(gpu)\n",
    "model = model.cuda()\n",
    "\n",
    "# define loss function (criterion) and optimizer\n",
    "criterion = SoftTriple(la, gamma, tau, margin, dim, C, K).cuda()\n",
    "optimizer = torch.optim.Adam([{\"params\": model.parameters(), \"lr\": modellr},\n",
    "                              {\"params\": criterion.parameters(), \"lr\": centerlr}],\n",
    "                             eps=eps, weight_decay=weight_decay)\n",
    "cudnn.benchmark = True"
   ]
  },
  {
   "cell_type": "markdown",
   "metadata": {},
   "source": [
    "### Train"
   ]
  },
  {
   "cell_type": "code",
   "execution_count": 57,
   "metadata": {},
   "outputs": [
    {
     "data": {
      "text/plain": [
       "'for i, (input, target) in enumerate(train_loader):\\n    print(\"index:\",i)\\n    #print(\"input:\\n\",input)\\n    print(\"target:\\n\",target)'"
      ]
     },
     "execution_count": 57,
     "metadata": {},
     "output_type": "execute_result"
    }
   ],
   "source": [
    "\"\"\"for i, (input, target) in enumerate(train_loader):\n",
    "    print(\"index:\",i)\n",
    "    #print(\"input:\\n\",input)\n",
    "    print(\"target:\\n\",target)\"\"\""
   ]
  },
  {
   "cell_type": "code",
   "execution_count": 58,
   "metadata": {},
   "outputs": [
    {
     "data": {
      "text/plain": [
       "'for i, (input, target) in enumerate(test_loader):\\n    print(\"index:\",i)\\n    #print(\"input:\\n\",input)\\n    print(\"target:\\n\",target)'"
      ]
     },
     "execution_count": 58,
     "metadata": {},
     "output_type": "execute_result"
    }
   ],
   "source": [
    "\"\"\"for i, (input, target) in enumerate(test_loader):\n",
    "    print(\"index:\",i)\n",
    "    #print(\"input:\\n\",input)\n",
    "    print(\"target:\\n\",target)\"\"\""
   ]
  },
  {
   "cell_type": "code",
   "execution_count": 19,
   "metadata": {},
   "outputs": [],
   "source": [
    "def train(train_loader, model, criterion, optimizer):\n",
    "    # switch to train mode\n",
    "    model.train()\n",
    "    losses = []\n",
    "    total_loss = 0\n",
    "    \n",
    "    if freeze_BN:\n",
    "        for m in model.modules():\n",
    "            if isinstance(m, nn.BatchNorm2d):\n",
    "                m.eval()\n",
    "\n",
    "    for i, (input, target) in enumerate(train_loader):\n",
    "        if gpu is not None:\n",
    "            input = input.cuda(gpu, non_blocking=True)\n",
    "        target = target.cuda(gpu, non_blocking=True)\n",
    "\n",
    "        # compute output\n",
    "        output = model(input)\n",
    "        loss = criterion(output, target)\n",
    "        losses.append(loss.item())\n",
    "        total_loss += loss.item()\n",
    "\n",
    "        # compute gradient and do SGD step\n",
    "        optimizer.zero_grad()\n",
    "        loss.backward()\n",
    "        optimizer.step()\n",
    "        \n",
    "        if i % 100 == 0:\n",
    "            message = 'Train: [{}/{} ({:.0f}%)]\\tLoss: {:.6f}'.format(\n",
    "                i * len(input), len(train_loader.dataset),\n",
    "                100. * i / len(train_loader), np.mean(losses))\n",
    "            print(message)\n",
    "            losses = []\n",
    "    \n",
    "    return total_loss\n",
    "\n",
    "def adjust_learning_rate(optimizer, epoch):\n",
    "    # decayed lr by 10 every 20 epochs\n",
    "    if (epoch+1)%20 == 0:\n",
    "        for param_group in optimizer.param_groups:\n",
    "            param_group['lr'] *= decay_rate"
   ]
  },
  {
   "cell_type": "markdown",
   "metadata": {},
   "source": [
    "## 5. Validation"
   ]
  },
  {
   "cell_type": "code",
   "execution_count": 20,
   "metadata": {},
   "outputs": [],
   "source": [
    "from sklearn.cluster import KMeans\n",
    "from sklearn.metrics.cluster import normalized_mutual_info_score\n",
    "import numpy as np\n",
    "\n",
    "def evaluation(X, Y, Kset):\n",
    "    num = X.shape[0]\n",
    "    classN = np.max(Y)+1\n",
    "    kmax = np.max(Kset)\n",
    "    recallK = np.zeros(len(Kset))\n",
    "    #compute NMI\n",
    "    kmeans = KMeans(n_clusters=classN).fit(X)\n",
    "    nmi = normalized_mutual_info_score(Y, kmeans.labels_, average_method='arithmetic')\n",
    "    #compute Recall@K\n",
    "    sim = X.dot(X.T)\n",
    "    minval = np.min(sim) - 1.\n",
    "    sim -= np.diag(np.diag(sim)) #???????????????\n",
    "    sim += np.diag(np.ones(num) * minval) #???????????????\n",
    "    indices = np.argsort(-sim, axis=1)[:, : kmax] #???????????????\n",
    "    YNN = Y[indices]  #???????????????\n",
    "    for i in range(0, len(Kset)):\n",
    "        pos = 0.\n",
    "        for j in range(0, num):\n",
    "            if Y[j] in YNN[j, :Kset[i]]:\n",
    "                pos += 1.\n",
    "        recallK[i] = pos/num\n",
    "    return nmi, recallK"
   ]
  },
  {
   "cell_type": "code",
   "execution_count": 21,
   "metadata": {},
   "outputs": [],
   "source": [
    "def validate(test_loader, model):\n",
    "    # switch to evaluation mode\n",
    "    model.eval()\n",
    "    val_loss = 0\n",
    "    \n",
    "    testdata = torch.Tensor()\n",
    "    testlabel = torch.LongTensor()\n",
    "    with torch.no_grad():\n",
    "        for i, (input, target) in enumerate(test_loader):\n",
    "            if gpu is not None:\n",
    "                input = input.cuda(gpu, non_blocking=True)\n",
    "            target = target.cuda(gpu, non_blocking=True)\n",
    "\n",
    "            # compute output\n",
    "            output = model(input)\n",
    "            loss = criterion(output, target)\n",
    "            val_loss += loss.item()\n",
    "            \n",
    "            testdata = torch.cat((testdata, output.cpu()), 0)\n",
    "            testlabel = torch.cat((testlabel, target.cpu()))\n",
    "    nmi, recall = evaluation(testdata.numpy(), testlabel.numpy(), [1, 2, 4, 8])\n",
    "    \n",
    "    return nmi, recall, val_loss"
   ]
  },
  {
   "cell_type": "code",
   "execution_count": 62,
   "metadata": {},
   "outputs": [
    {
     "data": {
      "text/plain": [
       "\"# evaluate on validation set\\nnmi, recall = validate(test_loader, model)\\nprint('Recall@1, 2, 4, 8: {recall[0]:.3f}, {recall[1]:.3f}, {recall[2]:.3f}, {recall[3]:.3f}; NMI: {nmi:.3f} \\n'\\n              .format(recall=recall, nmi=nmi))\""
      ]
     },
     "execution_count": 62,
     "metadata": {},
     "output_type": "execute_result"
    }
   ],
   "source": [
    "\"\"\"# evaluate on validation set\n",
    "nmi, recall = validate(test_loader, model)\n",
    "print('Recall@1, 2, 4, 8: {recall[0]:.3f}, {recall[1]:.3f}, {recall[2]:.3f}, {recall[3]:.3f}; NMI: {nmi:.3f} \\n'\n",
    "              .format(recall=recall, nmi=nmi))\"\"\""
   ]
  },
  {
   "cell_type": "markdown",
   "metadata": {},
   "source": [
    "### CUB-10 sample"
   ]
  },
  {
   "cell_type": "code",
   "execution_count": 63,
   "metadata": {},
   "outputs": [
    {
     "data": {
      "text/plain": [
       "\"for epoch in range(start_epoch, epochs):\\n    print('Training in Epoch[{}]'.format(epoch))\\n    adjust_learning_rate(optimizer, epoch)\\n\\n    # train for one epoch\\n    train(train_loader, model, criterion, optimizer)\\n    # evaluate on validation set\\n    nmi, recall = validate(test_loader, model)\\n    print('Recall@1, 2, 4, 8: {recall[0]:.3f}, {recall[1]:.3f}, {recall[2]:.3f}, {recall[3]:.3f}; NMI: {nmi:.3f} \\n'\\n                  .format(recall=recall, nmi=nmi))\""
      ]
     },
     "execution_count": 63,
     "metadata": {},
     "output_type": "execute_result"
    }
   ],
   "source": [
    "\"\"\"for epoch in range(start_epoch, epochs):\n",
    "    print('Training in Epoch[{}]'.format(epoch))\n",
    "    adjust_learning_rate(optimizer, epoch)\n",
    "\n",
    "    # train for one epoch\n",
    "    train(train_loader, model, criterion, optimizer)\n",
    "    # evaluate on validation set\n",
    "    nmi, recall = validate(test_loader, model)\n",
    "    print('Recall@1, 2, 4, 8: {recall[0]:.3f}, {recall[1]:.3f}, {recall[2]:.3f}, {recall[3]:.3f}; NMI: {nmi:.3f} \\n'\n",
    "                  .format(recall=recall, nmi=nmi))\"\"\""
   ]
  },
  {
   "cell_type": "code",
   "execution_count": 64,
   "metadata": {},
   "outputs": [
    {
     "data": {
      "text/plain": [
       "'torch.save(model.state_dict(), \"softtriple_cub_sample_state.pth\")'"
      ]
     },
     "execution_count": 64,
     "metadata": {},
     "output_type": "execute_result"
    }
   ],
   "source": [
    "\"\"\"torch.save(model.state_dict(), \"softtriple_cub_sample_state.pth\")\"\"\""
   ]
  },
  {
   "cell_type": "markdown",
   "metadata": {},
   "source": [
    "### CUB-200 fullset"
   ]
  },
  {
   "cell_type": "code",
   "execution_count": 65,
   "metadata": {
    "scrolled": true
   },
   "outputs": [
    {
     "data": {
      "text/plain": [
       "\"for epoch in range(start_epoch, epochs):\\n    print('Training in Epoch[{}]'.format(epoch))\\n    adjust_learning_rate(optimizer, epoch)\\n\\n    # train for one epoch\\n    train(train_loader, model, criterion, optimizer)\\n    # evaluate on validation set\\n    nmi, recall = validate(test_loader, model)\\n    print('Recall@1, 2, 4, 8: {recall[0]:.3f}, {recall[1]:.3f}, {recall[2]:.3f}, {recall[3]:.3f}; NMI: {nmi:.3f} \\n'\\n                  .format(recall=recall, nmi=nmi))\""
      ]
     },
     "execution_count": 65,
     "metadata": {},
     "output_type": "execute_result"
    }
   ],
   "source": [
    "\"\"\"for epoch in range(start_epoch, epochs):\n",
    "    print('Training in Epoch[{}]'.format(epoch))\n",
    "    adjust_learning_rate(optimizer, epoch)\n",
    "\n",
    "    # train for one epoch\n",
    "    train(train_loader, model, criterion, optimizer)\n",
    "    # evaluate on validation set\n",
    "    nmi, recall = validate(test_loader, model)\n",
    "    print('Recall@1, 2, 4, 8: {recall[0]:.3f}, {recall[1]:.3f}, {recall[2]:.3f}, {recall[3]:.3f}; NMI: {nmi:.3f} \\n'\n",
    "                  .format(recall=recall, nmi=nmi))\"\"\""
   ]
  },
  {
   "cell_type": "code",
   "execution_count": 66,
   "metadata": {},
   "outputs": [
    {
     "data": {
      "text/plain": [
       "'torch.save(model.state_dict(), \"softtriple_cub200_state.pth\")'"
      ]
     },
     "execution_count": 66,
     "metadata": {},
     "output_type": "execute_result"
    }
   ],
   "source": [
    "\"\"\"torch.save(model.state_dict(), \"softtriple_cub200_state.pth\")\"\"\""
   ]
  },
  {
   "cell_type": "markdown",
   "metadata": {},
   "source": [
    "### CUB-200 train test split"
   ]
  },
  {
   "cell_type": "code",
   "execution_count": 67,
   "metadata": {},
   "outputs": [
    {
     "name": "stdout",
     "output_type": "stream",
     "text": [
      "Training in Epoch[0]\n",
      "Train: [0/5864 (0%)]\tLoss: 5.778946\n",
      "Train: [3200/5864 (54%)]\tLoss: 3.964217\n",
      "Recall@1, 2, 4, 8: 0.481, 0.610, 0.729, 0.830; NMI: 0.579 \n",
      "\n",
      "Training in Epoch[1]\n",
      "Train: [0/5864 (0%)]\tLoss: 2.500266\n",
      "Train: [3200/5864 (54%)]\tLoss: 2.004462\n",
      "Recall@1, 2, 4, 8: 0.545, 0.667, 0.771, 0.855; NMI: 0.618 \n",
      "\n",
      "Training in Epoch[2]\n",
      "Train: [0/5864 (0%)]\tLoss: 1.249938\n",
      "Train: [3200/5864 (54%)]\tLoss: 1.559711\n",
      "Recall@1, 2, 4, 8: 0.536, 0.665, 0.772, 0.858; NMI: 0.621 \n",
      "\n",
      "Training in Epoch[3]\n",
      "Train: [0/5864 (0%)]\tLoss: 1.365536\n",
      "Train: [3200/5864 (54%)]\tLoss: 1.395863\n",
      "Recall@1, 2, 4, 8: 0.556, 0.679, 0.785, 0.860; NMI: 0.626 \n",
      "\n",
      "Training in Epoch[4]\n",
      "Train: [0/5864 (0%)]\tLoss: 1.652420\n",
      "Train: [3200/5864 (54%)]\tLoss: 1.257489\n",
      "Recall@1, 2, 4, 8: 0.553, 0.674, 0.775, 0.853; NMI: 0.625 \n",
      "\n",
      "Training in Epoch[5]\n",
      "Train: [0/5864 (0%)]\tLoss: 1.368031\n",
      "Train: [3200/5864 (54%)]\tLoss: 1.165545\n",
      "Recall@1, 2, 4, 8: 0.560, 0.680, 0.785, 0.865; NMI: 0.632 \n",
      "\n",
      "Training in Epoch[6]\n",
      "Train: [0/5864 (0%)]\tLoss: 1.370270\n",
      "Train: [3200/5864 (54%)]\tLoss: 1.038615\n",
      "Recall@1, 2, 4, 8: 0.573, 0.693, 0.796, 0.872; NMI: 0.639 \n",
      "\n",
      "Training in Epoch[7]\n",
      "Train: [0/5864 (0%)]\tLoss: 1.380201\n",
      "Train: [3200/5864 (54%)]\tLoss: 1.062979\n",
      "Recall@1, 2, 4, 8: 0.563, 0.683, 0.788, 0.866; NMI: 0.638 \n",
      "\n",
      "Training in Epoch[8]\n",
      "Train: [0/5864 (0%)]\tLoss: 0.991115\n",
      "Train: [3200/5864 (54%)]\tLoss: 0.942486\n",
      "Recall@1, 2, 4, 8: 0.573, 0.694, 0.796, 0.871; NMI: 0.643 \n",
      "\n",
      "Training in Epoch[9]\n",
      "Train: [0/5864 (0%)]\tLoss: 1.103875\n",
      "Train: [3200/5864 (54%)]\tLoss: 0.928283\n",
      "Recall@1, 2, 4, 8: 0.587, 0.704, 0.802, 0.876; NMI: 0.646 \n",
      "\n"
     ]
    }
   ],
   "source": [
    "for epoch in range(start_epoch, epochs):\n",
    "    print('Training in Epoch[{}]'.format(epoch))\n",
    "    adjust_learning_rate(optimizer, epoch)\n",
    "\n",
    "    # train for one epoch\n",
    "    train_loss = train(train_loader, model, criterion, optimizer)\n",
    "    train_loss /= len(train_loader)\n",
    "    message = 'Epoch: {}/{}. Train set: Average loss: {:.4f}'.format(epoch + 1, epochs, train_loss)\n",
    "    \n",
    "    # evaluate on validation set\n",
    "    nmi, recall,val_loss = validate(test_loader, model)\n",
    "    val_loss /= len(test_loader)\n",
    "    message += '\\nEpoch: {}/{}. Validation set: Average loss: {:.4f}'.format(epoch + 1, epochs, val_loss)\n",
    "    \n",
    "    print('Recall@1, 2, 4, 8: {recall[0]:.3f}, {recall[1]:.3f}, {recall[2]:.3f}, {recall[3]:.3f}; NMI: {nmi:.3f} \\n'\n",
    "                  .format(recall=recall, nmi=nmi))"
   ]
  },
  {
   "cell_type": "code",
   "execution_count": 17,
   "metadata": {},
   "outputs": [],
   "source": [
    "torch.save(model.state_dict(), \"softtriple_CUB-200_state.pth\")"
   ]
  },
  {
   "cell_type": "markdown",
   "metadata": {},
   "source": [
    "## 5. Extract Embedding\n",
    "### Extracter method"
   ]
  },
  {
   "cell_type": "code",
   "execution_count": 18,
   "metadata": {},
   "outputs": [],
   "source": [
    "def extract_embeddings(dataloader, model):\n",
    "    with torch.no_grad():\n",
    "        model.eval()\n",
    "        embeddings = np.zeros((len(dataloader.dataset), dim))\n",
    "        labels = np.zeros(len(dataloader.dataset))\n",
    "        k = 0\n",
    "        for images, target in dataloader:\n",
    "            if cuda:\n",
    "                images = images.cuda()\n",
    "            embeddings[k:k+len(images)] = model.forward(images).data.cpu().numpy()\n",
    "            labels[k:k+len(images)] = target.numpy()\n",
    "            k += len(images)\n",
    "    return embeddings, labels"
   ]
  },
  {
   "cell_type": "markdown",
   "metadata": {},
   "source": [
    "### Extract embedding and save to csv"
   ]
  },
  {
   "cell_type": "code",
   "execution_count": 19,
   "metadata": {},
   "outputs": [
    {
     "data": {
      "text/plain": [
       "BNInception(\n",
       "  (conv1_7x7_s2): Conv2d(3, 64, kernel_size=(7, 7), stride=(2, 2), padding=(3, 3))\n",
       "  (conv1_7x7_s2_bn): BatchNorm2d(64, eps=1e-05, momentum=0.1, affine=True, track_running_stats=True)\n",
       "  (conv1_relu_7x7): ReLU(inplace=True)\n",
       "  (pool1_3x3_s2): MaxPool2d(kernel_size=(3, 3), stride=(2, 2), padding=0, dilation=(1, 1), ceil_mode=True)\n",
       "  (conv2_3x3_reduce): Conv2d(64, 64, kernel_size=(1, 1), stride=(1, 1))\n",
       "  (conv2_3x3_reduce_bn): BatchNorm2d(64, eps=1e-05, momentum=0.1, affine=True, track_running_stats=True)\n",
       "  (conv2_relu_3x3_reduce): ReLU(inplace=True)\n",
       "  (conv2_3x3): Conv2d(64, 192, kernel_size=(3, 3), stride=(1, 1), padding=(1, 1))\n",
       "  (conv2_3x3_bn): BatchNorm2d(192, eps=1e-05, momentum=0.1, affine=True, track_running_stats=True)\n",
       "  (conv2_relu_3x3): ReLU(inplace=True)\n",
       "  (pool2_3x3_s2): MaxPool2d(kernel_size=(3, 3), stride=(2, 2), padding=0, dilation=(1, 1), ceil_mode=True)\n",
       "  (inception_3a_1x1): Conv2d(192, 64, kernel_size=(1, 1), stride=(1, 1))\n",
       "  (inception_3a_1x1_bn): BatchNorm2d(64, eps=1e-05, momentum=0.1, affine=True, track_running_stats=True)\n",
       "  (inception_3a_relu_1x1): ReLU(inplace=True)\n",
       "  (inception_3a_3x3_reduce): Conv2d(192, 64, kernel_size=(1, 1), stride=(1, 1))\n",
       "  (inception_3a_3x3_reduce_bn): BatchNorm2d(64, eps=1e-05, momentum=0.1, affine=True, track_running_stats=True)\n",
       "  (inception_3a_relu_3x3_reduce): ReLU(inplace=True)\n",
       "  (inception_3a_3x3): Conv2d(64, 64, kernel_size=(3, 3), stride=(1, 1), padding=(1, 1))\n",
       "  (inception_3a_3x3_bn): BatchNorm2d(64, eps=1e-05, momentum=0.1, affine=True, track_running_stats=True)\n",
       "  (inception_3a_relu_3x3): ReLU(inplace=True)\n",
       "  (inception_3a_double_3x3_reduce): Conv2d(192, 64, kernel_size=(1, 1), stride=(1, 1))\n",
       "  (inception_3a_double_3x3_reduce_bn): BatchNorm2d(64, eps=1e-05, momentum=0.1, affine=True, track_running_stats=True)\n",
       "  (inception_3a_relu_double_3x3_reduce): ReLU(inplace=True)\n",
       "  (inception_3a_double_3x3_1): Conv2d(64, 96, kernel_size=(3, 3), stride=(1, 1), padding=(1, 1))\n",
       "  (inception_3a_double_3x3_1_bn): BatchNorm2d(96, eps=1e-05, momentum=0.1, affine=True, track_running_stats=True)\n",
       "  (inception_3a_relu_double_3x3_1): ReLU(inplace=True)\n",
       "  (inception_3a_double_3x3_2): Conv2d(96, 96, kernel_size=(3, 3), stride=(1, 1), padding=(1, 1))\n",
       "  (inception_3a_double_3x3_2_bn): BatchNorm2d(96, eps=1e-05, momentum=0.1, affine=True, track_running_stats=True)\n",
       "  (inception_3a_relu_double_3x3_2): ReLU(inplace=True)\n",
       "  (inception_3a_pool): AvgPool2d(kernel_size=3, stride=1, padding=1)\n",
       "  (inception_3a_pool_proj): Conv2d(192, 32, kernel_size=(1, 1), stride=(1, 1))\n",
       "  (inception_3a_pool_proj_bn): BatchNorm2d(32, eps=1e-05, momentum=0.1, affine=True, track_running_stats=True)\n",
       "  (inception_3a_relu_pool_proj): ReLU(inplace=True)\n",
       "  (inception_3b_1x1): Conv2d(256, 64, kernel_size=(1, 1), stride=(1, 1))\n",
       "  (inception_3b_1x1_bn): BatchNorm2d(64, eps=1e-05, momentum=0.1, affine=True, track_running_stats=True)\n",
       "  (inception_3b_relu_1x1): ReLU(inplace=True)\n",
       "  (inception_3b_3x3_reduce): Conv2d(256, 64, kernel_size=(1, 1), stride=(1, 1))\n",
       "  (inception_3b_3x3_reduce_bn): BatchNorm2d(64, eps=1e-05, momentum=0.1, affine=True, track_running_stats=True)\n",
       "  (inception_3b_relu_3x3_reduce): ReLU(inplace=True)\n",
       "  (inception_3b_3x3): Conv2d(64, 96, kernel_size=(3, 3), stride=(1, 1), padding=(1, 1))\n",
       "  (inception_3b_3x3_bn): BatchNorm2d(96, eps=1e-05, momentum=0.1, affine=True, track_running_stats=True)\n",
       "  (inception_3b_relu_3x3): ReLU(inplace=True)\n",
       "  (inception_3b_double_3x3_reduce): Conv2d(256, 64, kernel_size=(1, 1), stride=(1, 1))\n",
       "  (inception_3b_double_3x3_reduce_bn): BatchNorm2d(64, eps=1e-05, momentum=0.1, affine=True, track_running_stats=True)\n",
       "  (inception_3b_relu_double_3x3_reduce): ReLU(inplace=True)\n",
       "  (inception_3b_double_3x3_1): Conv2d(64, 96, kernel_size=(3, 3), stride=(1, 1), padding=(1, 1))\n",
       "  (inception_3b_double_3x3_1_bn): BatchNorm2d(96, eps=1e-05, momentum=0.1, affine=True, track_running_stats=True)\n",
       "  (inception_3b_relu_double_3x3_1): ReLU(inplace=True)\n",
       "  (inception_3b_double_3x3_2): Conv2d(96, 96, kernel_size=(3, 3), stride=(1, 1), padding=(1, 1))\n",
       "  (inception_3b_double_3x3_2_bn): BatchNorm2d(96, eps=1e-05, momentum=0.1, affine=True, track_running_stats=True)\n",
       "  (inception_3b_relu_double_3x3_2): ReLU(inplace=True)\n",
       "  (inception_3b_pool): AvgPool2d(kernel_size=3, stride=1, padding=1)\n",
       "  (inception_3b_pool_proj): Conv2d(256, 64, kernel_size=(1, 1), stride=(1, 1))\n",
       "  (inception_3b_pool_proj_bn): BatchNorm2d(64, eps=1e-05, momentum=0.1, affine=True, track_running_stats=True)\n",
       "  (inception_3b_relu_pool_proj): ReLU(inplace=True)\n",
       "  (inception_3c_3x3_reduce): Conv2d(320, 128, kernel_size=(1, 1), stride=(1, 1))\n",
       "  (inception_3c_3x3_reduce_bn): BatchNorm2d(128, eps=1e-05, momentum=0.1, affine=True, track_running_stats=True)\n",
       "  (inception_3c_relu_3x3_reduce): ReLU(inplace=True)\n",
       "  (inception_3c_3x3): Conv2d(128, 160, kernel_size=(3, 3), stride=(2, 2), padding=(1, 1))\n",
       "  (inception_3c_3x3_bn): BatchNorm2d(160, eps=1e-05, momentum=0.1, affine=True, track_running_stats=True)\n",
       "  (inception_3c_relu_3x3): ReLU(inplace=True)\n",
       "  (inception_3c_double_3x3_reduce): Conv2d(320, 64, kernel_size=(1, 1), stride=(1, 1))\n",
       "  (inception_3c_double_3x3_reduce_bn): BatchNorm2d(64, eps=1e-05, momentum=0.1, affine=True, track_running_stats=True)\n",
       "  (inception_3c_relu_double_3x3_reduce): ReLU(inplace=True)\n",
       "  (inception_3c_double_3x3_1): Conv2d(64, 96, kernel_size=(3, 3), stride=(1, 1), padding=(1, 1))\n",
       "  (inception_3c_double_3x3_1_bn): BatchNorm2d(96, eps=1e-05, momentum=0.1, affine=True, track_running_stats=True)\n",
       "  (inception_3c_relu_double_3x3_1): ReLU(inplace=True)\n",
       "  (inception_3c_double_3x3_2): Conv2d(96, 96, kernel_size=(3, 3), stride=(2, 2), padding=(1, 1))\n",
       "  (inception_3c_double_3x3_2_bn): BatchNorm2d(96, eps=1e-05, momentum=0.1, affine=True, track_running_stats=True)\n",
       "  (inception_3c_relu_double_3x3_2): ReLU(inplace=True)\n",
       "  (inception_3c_pool): MaxPool2d(kernel_size=(3, 3), stride=(2, 2), padding=0, dilation=(1, 1), ceil_mode=True)\n",
       "  (inception_4a_1x1): Conv2d(576, 224, kernel_size=(1, 1), stride=(1, 1))\n",
       "  (inception_4a_1x1_bn): BatchNorm2d(224, eps=1e-05, momentum=0.1, affine=True, track_running_stats=True)\n",
       "  (inception_4a_relu_1x1): ReLU(inplace=True)\n",
       "  (inception_4a_3x3_reduce): Conv2d(576, 64, kernel_size=(1, 1), stride=(1, 1))\n",
       "  (inception_4a_3x3_reduce_bn): BatchNorm2d(64, eps=1e-05, momentum=0.1, affine=True, track_running_stats=True)\n",
       "  (inception_4a_relu_3x3_reduce): ReLU(inplace=True)\n",
       "  (inception_4a_3x3): Conv2d(64, 96, kernel_size=(3, 3), stride=(1, 1), padding=(1, 1))\n",
       "  (inception_4a_3x3_bn): BatchNorm2d(96, eps=1e-05, momentum=0.1, affine=True, track_running_stats=True)\n",
       "  (inception_4a_relu_3x3): ReLU(inplace=True)\n",
       "  (inception_4a_double_3x3_reduce): Conv2d(576, 96, kernel_size=(1, 1), stride=(1, 1))\n",
       "  (inception_4a_double_3x3_reduce_bn): BatchNorm2d(96, eps=1e-05, momentum=0.1, affine=True, track_running_stats=True)\n",
       "  (inception_4a_relu_double_3x3_reduce): ReLU(inplace=True)\n",
       "  (inception_4a_double_3x3_1): Conv2d(96, 128, kernel_size=(3, 3), stride=(1, 1), padding=(1, 1))\n",
       "  (inception_4a_double_3x3_1_bn): BatchNorm2d(128, eps=1e-05, momentum=0.1, affine=True, track_running_stats=True)\n",
       "  (inception_4a_relu_double_3x3_1): ReLU(inplace=True)\n",
       "  (inception_4a_double_3x3_2): Conv2d(128, 128, kernel_size=(3, 3), stride=(1, 1), padding=(1, 1))\n",
       "  (inception_4a_double_3x3_2_bn): BatchNorm2d(128, eps=1e-05, momentum=0.1, affine=True, track_running_stats=True)\n",
       "  (inception_4a_relu_double_3x3_2): ReLU(inplace=True)\n",
       "  (inception_4a_pool): AvgPool2d(kernel_size=3, stride=1, padding=1)\n",
       "  (inception_4a_pool_proj): Conv2d(576, 128, kernel_size=(1, 1), stride=(1, 1))\n",
       "  (inception_4a_pool_proj_bn): BatchNorm2d(128, eps=1e-05, momentum=0.1, affine=True, track_running_stats=True)\n",
       "  (inception_4a_relu_pool_proj): ReLU(inplace=True)\n",
       "  (inception_4b_1x1): Conv2d(576, 192, kernel_size=(1, 1), stride=(1, 1))\n",
       "  (inception_4b_1x1_bn): BatchNorm2d(192, eps=1e-05, momentum=0.1, affine=True, track_running_stats=True)\n",
       "  (inception_4b_relu_1x1): ReLU(inplace=True)\n",
       "  (inception_4b_3x3_reduce): Conv2d(576, 96, kernel_size=(1, 1), stride=(1, 1))\n",
       "  (inception_4b_3x3_reduce_bn): BatchNorm2d(96, eps=1e-05, momentum=0.1, affine=True, track_running_stats=True)\n",
       "  (inception_4b_relu_3x3_reduce): ReLU(inplace=True)\n",
       "  (inception_4b_3x3): Conv2d(96, 128, kernel_size=(3, 3), stride=(1, 1), padding=(1, 1))\n",
       "  (inception_4b_3x3_bn): BatchNorm2d(128, eps=1e-05, momentum=0.1, affine=True, track_running_stats=True)\n",
       "  (inception_4b_relu_3x3): ReLU(inplace=True)\n",
       "  (inception_4b_double_3x3_reduce): Conv2d(576, 96, kernel_size=(1, 1), stride=(1, 1))\n",
       "  (inception_4b_double_3x3_reduce_bn): BatchNorm2d(96, eps=1e-05, momentum=0.1, affine=True, track_running_stats=True)\n",
       "  (inception_4b_relu_double_3x3_reduce): ReLU(inplace=True)\n",
       "  (inception_4b_double_3x3_1): Conv2d(96, 128, kernel_size=(3, 3), stride=(1, 1), padding=(1, 1))\n",
       "  (inception_4b_double_3x3_1_bn): BatchNorm2d(128, eps=1e-05, momentum=0.1, affine=True, track_running_stats=True)\n",
       "  (inception_4b_relu_double_3x3_1): ReLU(inplace=True)\n",
       "  (inception_4b_double_3x3_2): Conv2d(128, 128, kernel_size=(3, 3), stride=(1, 1), padding=(1, 1))\n",
       "  (inception_4b_double_3x3_2_bn): BatchNorm2d(128, eps=1e-05, momentum=0.1, affine=True, track_running_stats=True)\n",
       "  (inception_4b_relu_double_3x3_2): ReLU(inplace=True)\n",
       "  (inception_4b_pool): AvgPool2d(kernel_size=3, stride=1, padding=1)\n",
       "  (inception_4b_pool_proj): Conv2d(576, 128, kernel_size=(1, 1), stride=(1, 1))\n",
       "  (inception_4b_pool_proj_bn): BatchNorm2d(128, eps=1e-05, momentum=0.1, affine=True, track_running_stats=True)\n",
       "  (inception_4b_relu_pool_proj): ReLU(inplace=True)\n",
       "  (inception_4c_1x1): Conv2d(576, 160, kernel_size=(1, 1), stride=(1, 1))\n",
       "  (inception_4c_1x1_bn): BatchNorm2d(160, eps=1e-05, momentum=0.1, affine=True, track_running_stats=True)\n",
       "  (inception_4c_relu_1x1): ReLU(inplace=True)\n",
       "  (inception_4c_3x3_reduce): Conv2d(576, 128, kernel_size=(1, 1), stride=(1, 1))\n",
       "  (inception_4c_3x3_reduce_bn): BatchNorm2d(128, eps=1e-05, momentum=0.1, affine=True, track_running_stats=True)\n",
       "  (inception_4c_relu_3x3_reduce): ReLU(inplace=True)\n",
       "  (inception_4c_3x3): Conv2d(128, 160, kernel_size=(3, 3), stride=(1, 1), padding=(1, 1))\n",
       "  (inception_4c_3x3_bn): BatchNorm2d(160, eps=1e-05, momentum=0.1, affine=True, track_running_stats=True)\n",
       "  (inception_4c_relu_3x3): ReLU(inplace=True)\n",
       "  (inception_4c_double_3x3_reduce): Conv2d(576, 128, kernel_size=(1, 1), stride=(1, 1))\n",
       "  (inception_4c_double_3x3_reduce_bn): BatchNorm2d(128, eps=1e-05, momentum=0.1, affine=True, track_running_stats=True)\n",
       "  (inception_4c_relu_double_3x3_reduce): ReLU(inplace=True)\n",
       "  (inception_4c_double_3x3_1): Conv2d(128, 160, kernel_size=(3, 3), stride=(1, 1), padding=(1, 1))\n",
       "  (inception_4c_double_3x3_1_bn): BatchNorm2d(160, eps=1e-05, momentum=0.1, affine=True, track_running_stats=True)\n",
       "  (inception_4c_relu_double_3x3_1): ReLU(inplace=True)\n",
       "  (inception_4c_double_3x3_2): Conv2d(160, 160, kernel_size=(3, 3), stride=(1, 1), padding=(1, 1))\n",
       "  (inception_4c_double_3x3_2_bn): BatchNorm2d(160, eps=1e-05, momentum=0.1, affine=True, track_running_stats=True)\n",
       "  (inception_4c_relu_double_3x3_2): ReLU(inplace=True)\n",
       "  (inception_4c_pool): AvgPool2d(kernel_size=3, stride=1, padding=1)\n",
       "  (inception_4c_pool_proj): Conv2d(576, 128, kernel_size=(1, 1), stride=(1, 1))\n",
       "  (inception_4c_pool_proj_bn): BatchNorm2d(128, eps=1e-05, momentum=0.1, affine=True, track_running_stats=True)\n",
       "  (inception_4c_relu_pool_proj): ReLU(inplace=True)\n",
       "  (inception_4d_1x1): Conv2d(608, 96, kernel_size=(1, 1), stride=(1, 1))\n",
       "  (inception_4d_1x1_bn): BatchNorm2d(96, eps=1e-05, momentum=0.1, affine=True, track_running_stats=True)\n",
       "  (inception_4d_relu_1x1): ReLU(inplace=True)\n",
       "  (inception_4d_3x3_reduce): Conv2d(608, 128, kernel_size=(1, 1), stride=(1, 1))\n",
       "  (inception_4d_3x3_reduce_bn): BatchNorm2d(128, eps=1e-05, momentum=0.1, affine=True, track_running_stats=True)\n",
       "  (inception_4d_relu_3x3_reduce): ReLU(inplace=True)\n",
       "  (inception_4d_3x3): Conv2d(128, 192, kernel_size=(3, 3), stride=(1, 1), padding=(1, 1))\n",
       "  (inception_4d_3x3_bn): BatchNorm2d(192, eps=1e-05, momentum=0.1, affine=True, track_running_stats=True)\n",
       "  (inception_4d_relu_3x3): ReLU(inplace=True)\n",
       "  (inception_4d_double_3x3_reduce): Conv2d(608, 160, kernel_size=(1, 1), stride=(1, 1))\n",
       "  (inception_4d_double_3x3_reduce_bn): BatchNorm2d(160, eps=1e-05, momentum=0.1, affine=True, track_running_stats=True)\n",
       "  (inception_4d_relu_double_3x3_reduce): ReLU(inplace=True)\n",
       "  (inception_4d_double_3x3_1): Conv2d(160, 192, kernel_size=(3, 3), stride=(1, 1), padding=(1, 1))\n",
       "  (inception_4d_double_3x3_1_bn): BatchNorm2d(192, eps=1e-05, momentum=0.1, affine=True, track_running_stats=True)\n",
       "  (inception_4d_relu_double_3x3_1): ReLU(inplace=True)\n",
       "  (inception_4d_double_3x3_2): Conv2d(192, 192, kernel_size=(3, 3), stride=(1, 1), padding=(1, 1))\n",
       "  (inception_4d_double_3x3_2_bn): BatchNorm2d(192, eps=1e-05, momentum=0.1, affine=True, track_running_stats=True)\n",
       "  (inception_4d_relu_double_3x3_2): ReLU(inplace=True)\n",
       "  (inception_4d_pool): AvgPool2d(kernel_size=3, stride=1, padding=1)\n",
       "  (inception_4d_pool_proj): Conv2d(608, 128, kernel_size=(1, 1), stride=(1, 1))\n",
       "  (inception_4d_pool_proj_bn): BatchNorm2d(128, eps=1e-05, momentum=0.1, affine=True, track_running_stats=True)\n",
       "  (inception_4d_relu_pool_proj): ReLU(inplace=True)\n",
       "  (inception_4e_3x3_reduce): Conv2d(608, 128, kernel_size=(1, 1), stride=(1, 1))\n",
       "  (inception_4e_3x3_reduce_bn): BatchNorm2d(128, eps=1e-05, momentum=0.1, affine=True, track_running_stats=True)\n",
       "  (inception_4e_relu_3x3_reduce): ReLU(inplace=True)\n",
       "  (inception_4e_3x3): Conv2d(128, 192, kernel_size=(3, 3), stride=(2, 2), padding=(1, 1))\n",
       "  (inception_4e_3x3_bn): BatchNorm2d(192, eps=1e-05, momentum=0.1, affine=True, track_running_stats=True)\n",
       "  (inception_4e_relu_3x3): ReLU(inplace=True)\n",
       "  (inception_4e_double_3x3_reduce): Conv2d(608, 192, kernel_size=(1, 1), stride=(1, 1))\n",
       "  (inception_4e_double_3x3_reduce_bn): BatchNorm2d(192, eps=1e-05, momentum=0.1, affine=True, track_running_stats=True)\n",
       "  (inception_4e_relu_double_3x3_reduce): ReLU(inplace=True)\n",
       "  (inception_4e_double_3x3_1): Conv2d(192, 256, kernel_size=(3, 3), stride=(1, 1), padding=(1, 1))\n",
       "  (inception_4e_double_3x3_1_bn): BatchNorm2d(256, eps=1e-05, momentum=0.1, affine=True, track_running_stats=True)\n",
       "  (inception_4e_relu_double_3x3_1): ReLU(inplace=True)\n",
       "  (inception_4e_double_3x3_2): Conv2d(256, 256, kernel_size=(3, 3), stride=(2, 2), padding=(1, 1))\n",
       "  (inception_4e_double_3x3_2_bn): BatchNorm2d(256, eps=1e-05, momentum=0.1, affine=True, track_running_stats=True)\n",
       "  (inception_4e_relu_double_3x3_2): ReLU(inplace=True)\n",
       "  (inception_4e_pool): MaxPool2d(kernel_size=(3, 3), stride=(2, 2), padding=0, dilation=(1, 1), ceil_mode=True)\n",
       "  (inception_5a_1x1): Conv2d(1056, 352, kernel_size=(1, 1), stride=(1, 1))\n",
       "  (inception_5a_1x1_bn): BatchNorm2d(352, eps=1e-05, momentum=0.1, affine=True, track_running_stats=True)\n",
       "  (inception_5a_relu_1x1): ReLU(inplace=True)\n",
       "  (inception_5a_3x3_reduce): Conv2d(1056, 192, kernel_size=(1, 1), stride=(1, 1))\n",
       "  (inception_5a_3x3_reduce_bn): BatchNorm2d(192, eps=1e-05, momentum=0.1, affine=True, track_running_stats=True)\n",
       "  (inception_5a_relu_3x3_reduce): ReLU(inplace=True)\n",
       "  (inception_5a_3x3): Conv2d(192, 320, kernel_size=(3, 3), stride=(1, 1), padding=(1, 1))\n",
       "  (inception_5a_3x3_bn): BatchNorm2d(320, eps=1e-05, momentum=0.1, affine=True, track_running_stats=True)\n",
       "  (inception_5a_relu_3x3): ReLU(inplace=True)\n",
       "  (inception_5a_double_3x3_reduce): Conv2d(1056, 160, kernel_size=(1, 1), stride=(1, 1))\n",
       "  (inception_5a_double_3x3_reduce_bn): BatchNorm2d(160, eps=1e-05, momentum=0.1, affine=True, track_running_stats=True)\n",
       "  (inception_5a_relu_double_3x3_reduce): ReLU(inplace=True)\n",
       "  (inception_5a_double_3x3_1): Conv2d(160, 224, kernel_size=(3, 3), stride=(1, 1), padding=(1, 1))\n",
       "  (inception_5a_double_3x3_1_bn): BatchNorm2d(224, eps=1e-05, momentum=0.1, affine=True, track_running_stats=True)\n",
       "  (inception_5a_relu_double_3x3_1): ReLU(inplace=True)\n",
       "  (inception_5a_double_3x3_2): Conv2d(224, 224, kernel_size=(3, 3), stride=(1, 1), padding=(1, 1))\n",
       "  (inception_5a_double_3x3_2_bn): BatchNorm2d(224, eps=1e-05, momentum=0.1, affine=True, track_running_stats=True)\n",
       "  (inception_5a_relu_double_3x3_2): ReLU(inplace=True)\n",
       "  (inception_5a_pool): AvgPool2d(kernel_size=3, stride=1, padding=1)\n",
       "  (inception_5a_pool_proj): Conv2d(1056, 128, kernel_size=(1, 1), stride=(1, 1))\n",
       "  (inception_5a_pool_proj_bn): BatchNorm2d(128, eps=1e-05, momentum=0.1, affine=True, track_running_stats=True)\n",
       "  (inception_5a_relu_pool_proj): ReLU(inplace=True)\n",
       "  (inception_5b_1x1): Conv2d(1024, 352, kernel_size=(1, 1), stride=(1, 1))\n",
       "  (inception_5b_1x1_bn): BatchNorm2d(352, eps=1e-05, momentum=0.1, affine=True, track_running_stats=True)\n",
       "  (inception_5b_relu_1x1): ReLU(inplace=True)\n",
       "  (inception_5b_3x3_reduce): Conv2d(1024, 192, kernel_size=(1, 1), stride=(1, 1))\n",
       "  (inception_5b_3x3_reduce_bn): BatchNorm2d(192, eps=1e-05, momentum=0.1, affine=True, track_running_stats=True)\n",
       "  (inception_5b_relu_3x3_reduce): ReLU(inplace=True)\n",
       "  (inception_5b_3x3): Conv2d(192, 320, kernel_size=(3, 3), stride=(1, 1), padding=(1, 1))\n",
       "  (inception_5b_3x3_bn): BatchNorm2d(320, eps=1e-05, momentum=0.1, affine=True, track_running_stats=True)\n",
       "  (inception_5b_relu_3x3): ReLU(inplace=True)\n",
       "  (inception_5b_double_3x3_reduce): Conv2d(1024, 192, kernel_size=(1, 1), stride=(1, 1))\n",
       "  (inception_5b_double_3x3_reduce_bn): BatchNorm2d(192, eps=1e-05, momentum=0.1, affine=True, track_running_stats=True)\n",
       "  (inception_5b_relu_double_3x3_reduce): ReLU(inplace=True)\n",
       "  (inception_5b_double_3x3_1): Conv2d(192, 224, kernel_size=(3, 3), stride=(1, 1), padding=(1, 1))\n",
       "  (inception_5b_double_3x3_1_bn): BatchNorm2d(224, eps=1e-05, momentum=0.1, affine=True, track_running_stats=True)\n",
       "  (inception_5b_relu_double_3x3_1): ReLU(inplace=True)\n",
       "  (inception_5b_double_3x3_2): Conv2d(224, 224, kernel_size=(3, 3), stride=(1, 1), padding=(1, 1))\n",
       "  (inception_5b_double_3x3_2_bn): BatchNorm2d(224, eps=1e-05, momentum=0.1, affine=True, track_running_stats=True)\n",
       "  (inception_5b_relu_double_3x3_2): ReLU(inplace=True)\n",
       "  (inception_5b_pool): MaxPool2d(kernel_size=(3, 3), stride=(1, 1), padding=(1, 1), dilation=(1, 1), ceil_mode=True)\n",
       "  (inception_5b_pool_proj): Conv2d(1024, 128, kernel_size=(1, 1), stride=(1, 1))\n",
       "  (inception_5b_pool_proj_bn): BatchNorm2d(128, eps=1e-05, momentum=0.1, affine=True, track_running_stats=True)\n",
       "  (inception_5b_relu_pool_proj): ReLU(inplace=True)\n",
       "  (embedding): Linear(in_features=1024, out_features=64, bias=True)\n",
       ")"
      ]
     },
     "execution_count": 19,
     "metadata": {},
     "output_type": "execute_result"
    }
   ],
   "source": [
    "import pandas as pd\n",
    "\n",
    "\n",
    "model = bninception(dim)\n",
    "model.load_state_dict(torch.load(\"softtriple_CUB-200_state.pth\"))\n",
    "model.cuda()\n"
   ]
  },
  {
   "cell_type": "code",
   "execution_count": 20,
   "metadata": {},
   "outputs": [],
   "source": [
    "train_embeddings_cl, train_labels_cl = extract_embeddings(train_loader, model)\n",
    "train_embeddings_cl_df = pd.DataFrame(train_embeddings_cl)\n",
    "train_embeddings_cl_df.to_csv(\"softtriple_CUB-200_embedding_space.csv\",index=False)"
   ]
  },
  {
   "cell_type": "markdown",
   "metadata": {},
   "source": [
    "### Save image path with index"
   ]
  },
  {
   "cell_type": "code",
   "execution_count": 21,
   "metadata": {},
   "outputs": [
    {
     "data": {
      "text/plain": [
       "5864"
      ]
     },
     "execution_count": 21,
     "metadata": {},
     "output_type": "execute_result"
    }
   ],
   "source": [
    "len(train_loader.dataset)"
   ]
  },
  {
   "cell_type": "code",
   "execution_count": 22,
   "metadata": {},
   "outputs": [],
   "source": [
    "image_list = train_dataset.imgs\n",
    "image_list_df = pd.DataFrame(image_list)\n",
    "image_list_df.to_csv(\"softtriple_CUB-200_image_path.csv\",index=False)"
   ]
  },
  {
   "cell_type": "markdown",
   "metadata": {},
   "source": [
    "## 6. New unknown image embedding through network"
   ]
  },
  {
   "cell_type": "code",
   "execution_count": 27,
   "metadata": {},
   "outputs": [],
   "source": [
    "transform=transforms.Compose([\n",
    "        transforms.Lambda(RGB2BGR),\n",
    "        transforms.RandomResizedCrop(224),\n",
    "        transforms.RandomHorizontalFlip(),\n",
    "        transforms.ToTensor(),\n",
    "        transforms.Lambda(MUL), #?????????????\n",
    "        normalize,\n",
    "    ])"
   ]
  },
  {
   "cell_type": "code",
   "execution_count": 28,
   "metadata": {},
   "outputs": [
    {
     "data": {
      "image/png": "[encoded data removed]",
      "text/plain": [
       "<PIL.JpegImagePlugin.JpegImageFile image mode=RGB size=320x223 at 0x2444CD11668>"
      ]
     },
     "execution_count": 28,
     "metadata": {},
     "output_type": "execute_result"
    }
   ],
   "source": [
    "from PIL import Image\n",
    "\n",
    "image = Image.open(imgPath+'images/001.Black_footed_Albatross/Black_Footed_Albatross_0001_796111.jpg')\n",
    "image"
   ]
  },
  {
   "cell_type": "code",
   "execution_count": 29,
   "metadata": {},
   "outputs": [
    {
     "ename": "UnpicklingError",
     "evalue": "invalid load key, '\\xef'.",
     "output_type": "error",
     "traceback": [
      "\u001b[1;31m---------------------------------------------------------------------------\u001b[0m",
      "\u001b[1;31mUnpicklingError\u001b[0m                           Traceback (most recent call last)",
      "\u001b[1;32m<ipython-input-29-7b64aced04bf>\u001b[0m in \u001b[0;36m<module>\u001b[1;34m\u001b[0m\n\u001b[0;32m      4\u001b[0m \u001b[1;33m\u001b[0m\u001b[0m\n\u001b[0;32m      5\u001b[0m \u001b[0mmodel\u001b[0m \u001b[1;33m=\u001b[0m \u001b[0mbninception\u001b[0m\u001b[1;33m(\u001b[0m\u001b[0mdim\u001b[0m\u001b[1;33m)\u001b[0m\u001b[1;33m\u001b[0m\u001b[1;33m\u001b[0m\u001b[0m\n\u001b[1;32m----> 6\u001b[1;33m \u001b[0mmodel\u001b[0m\u001b[1;33m.\u001b[0m\u001b[0mload_state_dict\u001b[0m\u001b[1;33m(\u001b[0m\u001b[0mtorch\u001b[0m\u001b[1;33m.\u001b[0m\u001b[0mload\u001b[0m\u001b[1;33m(\u001b[0m\u001b[1;34m'softtriple_CUB-200_state.pth'\u001b[0m\u001b[1;33m)\u001b[0m\u001b[1;33m)\u001b[0m\u001b[1;33m\u001b[0m\u001b[1;33m\u001b[0m\u001b[0m\n\u001b[0m\u001b[0;32m      7\u001b[0m \u001b[0mmodel\u001b[0m\u001b[1;33m.\u001b[0m\u001b[0mcuda\u001b[0m\u001b[1;33m(\u001b[0m\u001b[1;33m)\u001b[0m\u001b[1;33m\u001b[0m\u001b[1;33m\u001b[0m\u001b[0m\n\u001b[0;32m      8\u001b[0m \u001b[1;31m#model.eval()\u001b[0m\u001b[1;33m\u001b[0m\u001b[1;33m\u001b[0m\u001b[1;33m\u001b[0m\u001b[0m\n",
      "\u001b[1;32mF:\\Users\\Dell\\Anaconda3\\envs\\DML\\lib\\site-packages\\torch\\serialization.py\u001b[0m in \u001b[0;36mload\u001b[1;34m(f, map_location, pickle_module, **pickle_load_args)\u001b[0m\n\u001b[0;32m    384\u001b[0m         \u001b[0mf\u001b[0m \u001b[1;33m=\u001b[0m \u001b[0mf\u001b[0m\u001b[1;33m.\u001b[0m\u001b[0mopen\u001b[0m\u001b[1;33m(\u001b[0m\u001b[1;34m'rb'\u001b[0m\u001b[1;33m)\u001b[0m\u001b[1;33m\u001b[0m\u001b[1;33m\u001b[0m\u001b[0m\n\u001b[0;32m    385\u001b[0m     \u001b[1;32mtry\u001b[0m\u001b[1;33m:\u001b[0m\u001b[1;33m\u001b[0m\u001b[1;33m\u001b[0m\u001b[0m\n\u001b[1;32m--> 386\u001b[1;33m         \u001b[1;32mreturn\u001b[0m \u001b[0m_load\u001b[0m\u001b[1;33m(\u001b[0m\u001b[0mf\u001b[0m\u001b[1;33m,\u001b[0m \u001b[0mmap_location\u001b[0m\u001b[1;33m,\u001b[0m \u001b[0mpickle_module\u001b[0m\u001b[1;33m,\u001b[0m \u001b[1;33m**\u001b[0m\u001b[0mpickle_load_args\u001b[0m\u001b[1;33m)\u001b[0m\u001b[1;33m\u001b[0m\u001b[1;33m\u001b[0m\u001b[0m\n\u001b[0m\u001b[0;32m    387\u001b[0m     \u001b[1;32mfinally\u001b[0m\u001b[1;33m:\u001b[0m\u001b[1;33m\u001b[0m\u001b[1;33m\u001b[0m\u001b[0m\n\u001b[0;32m    388\u001b[0m         \u001b[1;32mif\u001b[0m \u001b[0mnew_fd\u001b[0m\u001b[1;33m:\u001b[0m\u001b[1;33m\u001b[0m\u001b[1;33m\u001b[0m\u001b[0m\n",
      "\u001b[1;32mF:\\Users\\Dell\\Anaconda3\\envs\\DML\\lib\\site-packages\\torch\\serialization.py\u001b[0m in \u001b[0;36m_load\u001b[1;34m(f, map_location, pickle_module, **pickle_load_args)\u001b[0m\n\u001b[0;32m    561\u001b[0m             \u001b[0mf\u001b[0m\u001b[1;33m.\u001b[0m\u001b[0mseek\u001b[0m\u001b[1;33m(\u001b[0m\u001b[1;36m0\u001b[0m\u001b[1;33m)\u001b[0m\u001b[1;33m\u001b[0m\u001b[1;33m\u001b[0m\u001b[0m\n\u001b[0;32m    562\u001b[0m \u001b[1;33m\u001b[0m\u001b[0m\n\u001b[1;32m--> 563\u001b[1;33m     \u001b[0mmagic_number\u001b[0m \u001b[1;33m=\u001b[0m \u001b[0mpickle_module\u001b[0m\u001b[1;33m.\u001b[0m\u001b[0mload\u001b[0m\u001b[1;33m(\u001b[0m\u001b[0mf\u001b[0m\u001b[1;33m,\u001b[0m \u001b[1;33m**\u001b[0m\u001b[0mpickle_load_args\u001b[0m\u001b[1;33m)\u001b[0m\u001b[1;33m\u001b[0m\u001b[1;33m\u001b[0m\u001b[0m\n\u001b[0m\u001b[0;32m    564\u001b[0m     \u001b[1;32mif\u001b[0m \u001b[0mmagic_number\u001b[0m \u001b[1;33m!=\u001b[0m \u001b[0mMAGIC_NUMBER\u001b[0m\u001b[1;33m:\u001b[0m\u001b[1;33m\u001b[0m\u001b[1;33m\u001b[0m\u001b[0m\n\u001b[0;32m    565\u001b[0m         \u001b[1;32mraise\u001b[0m \u001b[0mRuntimeError\u001b[0m\u001b[1;33m(\u001b[0m\u001b[1;34m\"Invalid magic number; corrupt file?\"\u001b[0m\u001b[1;33m)\u001b[0m\u001b[1;33m\u001b[0m\u001b[1;33m\u001b[0m\u001b[0m\n",
      "\u001b[1;31mUnpicklingError\u001b[0m: invalid load key, '\\xef'."
     ]
    }
   ],
   "source": [
    "image = transform(image)\n",
    "image.unsqueeze_(0)\n",
    "image = image.cuda()\n",
    "\n",
    "model = bninception(dim)\n",
    "model.load_state_dict(torch.load('softtriple_CUB-200_state.pth'))\n",
    "model.cuda()\n",
    "#model.eval()\n",
    "new_picture_embedding = model.forward(image).data.cpu().numpy()\n",
    "new_picture_embedding"
   ]
  },
  {
   "cell_type": "code",
   "execution_count": 26,
   "metadata": {},
   "outputs": [
    {
     "name": "stdout",
     "output_type": "stream",
     "text": [
      "[4648, 4061, 2314, 5565, 467, 5252, 4842, 1952, 5623, 2395]\n"
     ]
    }
   ],
   "source": [
    "import numpy as np\n",
    "train_embeddings_cl_df = pd.read_csv(\"softtriple_CUB-200_embedding_space.csv\")\n",
    "train_embeddings_cl = train_embeddings_cl_df.values.tolist()\n",
    "image_list_df = pd.read_csv(\"softtriple_CUB-200_image_path.csv\")\n",
    "\n",
    "distance = []\n",
    "I = []\n",
    "for i in train_embeddings_cl:\n",
    "    d=0\n",
    "    for j in range(0,dim):\n",
    "        d += np.power(new_picture_embedding[0][j] - i[j], 2)\n",
    "    d = np.sqrt(d)\n",
    "    distance.append(d)\n",
    "\n",
    "for i in sorted(distance)[0:10]:\n",
    "    I.append(distance.index(i)) \n",
    "\n",
    "print(I)"
   ]
  },
  {
   "cell_type": "code",
   "execution_count": 30,
   "metadata": {},
   "outputs": [
    {
     "name": "stdout",
     "output_type": "stream",
     "text": [
      "imgPath: train1/080.Green_Kingfisher/Green_Kingfisher_0058_70998.jpg\n",
      "imgClass 79\n",
      "imgPath: train1/070.Green_Violetear/Green_Violetear_0086_795639.jpg\n",
      "imgClass 69\n",
      "imgPath: train1/041.Scissor_tailed_Flycatcher/Scissor_Tailed_Flycatcher_0055_42051.jpg\n",
      "imgClass 40\n",
      "imgPath: train1/096.Hooded_Oriole/Hooded_Oriole_0002_91034.jpg\n",
      "imgClass 95\n",
      "imgPath: train1/009.Brewer_Blackbird/Brewer_Blackbird_0104_2230.jpg\n",
      "imgClass 8\n",
      "imgPath: train1/090.Red_breasted_Merganser/Red_Breasted_Merganser_0070_79570.jpg\n",
      "imgClass 89\n",
      "imgPath: train1/083.White_breasted_Kingfisher/White_Breasted_Kingfisher_0111_73369.jpg\n",
      "imgClass 82\n",
      "imgPath: train1/035.Purple_Finch/Purple_Finch_0046_27295.jpg\n",
      "imgClass 34\n",
      "imgPath: train1/096.Hooded_Oriole/Hooded_Oriole_0129_90441.jpg\n",
      "imgClass 95\n",
      "imgPath: train1/042.Vermilion_Flycatcher/Vermilion_Flycatcher_0057_42562.jpg\n",
      "imgClass 41\n"
     ]
    }
   ],
   "source": [
    "images = []\n",
    "for i in I:\n",
    "    print(\"imgPath:\",image_list_df.iloc[i,0])\n",
    "    print('imgClass',image_list_df.iloc[i,1])\n",
    "    images.append(Image.open(image_list_df.iloc[i,0]))"
   ]
  },
  {
   "cell_type": "code",
   "execution_count": 28,
   "metadata": {},
   "outputs": [],
   "source": [
    "embedding_df = train_embeddings_cl_df.iloc[I,:]\n",
    "embedding_df.to_csv('retrieval_embedding.tsv', header=None, sep='\\t', index=False)"
   ]
  },
  {
   "cell_type": "code",
   "execution_count": 29,
   "metadata": {},
   "outputs": [],
   "source": [
    "train_embeddings_cl_df.to_csv('train_embedding.tsv', header=None, sep='\\t', index=False)"
   ]
  },
  {
   "cell_type": "code",
   "execution_count": 34,
   "metadata": {},
   "outputs": [
    {
     "data": {
      "image/png": "[encoded data removed]",
      "text/plain": [
       "<Figure size 432x288 with 10 Axes>"
      ]
     },
     "metadata": {
      "needs_background": "light"
     },
     "output_type": "display_data"
    }
   ],
   "source": [
    "import matplotlib.pyplot as plt\n",
    "\n",
    "for i in range(0,len(images)):\n",
    "    plt.subplot(4,3,i+1)\n",
    "    plt.imshow(images[i])"
   ]
  },
  {
   "cell_type": "code",
   "execution_count": null,
   "metadata": {},
   "outputs": [],
   "source": []
  }
 ],
 "metadata": {
  "kernel_info": {
   "name": "python3"
  },
  "kernelspec": {
   "display_name": "Python 3",
   "language": "python",
   "name": "python3"
  },
  "language_info": {
   "codemirror_mode": {
    "name": "ipython",
    "version": 3
   },
   "file_extension": ".py",
   "mimetype": "text/x-python",
   "name": "python",
   "nbconvert_exporter": "python",
   "pygments_lexer": "ipython3",
   "version": "3.6.10"
  },
  "nteract": {
   "version": "nteract-front-end@1.0.0"
  }
 },
 "nbformat": 4,
 "nbformat_minor": 4
}
