{
 "cells": [
  {
   "cell_type": "markdown",
   "metadata": {},
   "source": [
    "# Train Code of Team Stay Safe"
   ]
  },
  {
   "cell_type": "markdown",
   "metadata": {},
   "source": [
    "## Part 1: Read Image into dataset"
   ]
  },
  {
   "cell_type": "markdown",
   "metadata": {},
   "source": [
    "### 1. Read into normal dataset (Version 1:train and test data is splited in folder)"
   ]
  },
  {
   "cell_type": "code",
   "execution_count": 1,
   "metadata": {},
   "outputs": [],
   "source": [
    "# import torchvision\n",
    "# import torch\n",
    "# from torchvision import transforms\n",
    "\n",
    "# # check if cuda is available for boost\n",
    "# cuda = torch.cuda.is_available()\n",
    "\n",
    "# # mean and std for normalization\n",
    "# mean, std = 0.1307, 0.3081\n",
    "\n",
    "# # path of the train and test data folder\n",
    "# train_path = 'train'\n",
    "# test_path = 'test'\n",
    "\n",
    "# # read train dataset with transformation\n",
    "# train_dataset = torchvision.datasets.ImageFolder(\n",
    "#     root=train_path,\n",
    "#     transform=transforms.Compose([transforms.Grayscale(num_output_channels=1),\n",
    "#                                                                   transforms.Resize((28,28)),\n",
    "#                                                                   transforms.ToTensor(),\n",
    "#                                                                   transforms.Normalize((mean,), (std,))\n",
    "#                                                                   ]))\n",
    "\n",
    "# print(len(train_dataset))\n",
    "\n",
    "# # read test data with transformation\n",
    "# test_dataset = torchvision.datasets.ImageFolder(\n",
    "#     root=test_path,\n",
    "#     transform=transforms.Compose([transforms.Grayscale(num_output_channels=1),\n",
    "#                                                                   transforms.Resize((28,28)),\n",
    "#                                                                   transforms.ToTensor(),\n",
    "#                                                                   transforms.Normalize((mean,), (std,))\n",
    "#                                                                   ])\n",
    "# )\n",
    "\n",
    "# # Set up data loaders\n",
    "# batch_size = 256\n",
    "# kwargs = {'num_workers': 1, 'pin_memory': True} if cuda else {}\n",
    "# train_loader = torch.utils.data.DataLoader(train_dataset, batch_size=batch_size, shuffle=True, **kwargs)\n",
    "# test_loader = torch.utils.data.DataLoader(test_dataset, batch_size=batch_size, shuffle=False, **kwargs)"
   ]
  },
  {
   "cell_type": "markdown",
   "metadata": {},
   "source": [
    "### 1. Read into normal dataset (Version 2: only one folder contain all dataset)"
   ]
  },
  {
   "cell_type": "code",
   "execution_count": 2,
   "metadata": {},
   "outputs": [],
   "source": [
    "import torchvision\n",
    "import torch\n",
    "from torchvision import transforms\n",
    "\n",
    "# check if cuda is available for boost\n",
    "cuda = torch.cuda.is_available()\n",
    "\n",
    "# mean and std for normalization\n",
    "mean, std = 0.1307, 0.3081\n",
    "\n",
    "# path of the fulldataset folder\n",
    "folder_path = 'data'\n",
    "\n",
    "# read train dataset with transformation\n",
    "full_dataset = torchvision.datasets.ImageFolder(\n",
    "    root=folder_path,\n",
    "    transform=transforms.Compose([transforms.Grayscale(num_output_channels=1),\n",
    "                                                                  transforms.Resize((28,28)),\n",
    "                                                                  transforms.ToTensor(),\n",
    "                                                                  transforms.Normalize((mean,), (std,))\n",
    "                                                                  ]))\n",
    "\n",
    "# train test split\n",
    "train_size = int(0.8 * len(full_dataset))\n",
    "test_size = len(full_dataset) - train_size\n",
    "# train_dataset, test_dataset = torch.utils.data.random_split(full_dataset, [train_size, test_size])\n",
    "train_dataset = torch.utils.data.Subset(full_dataset, range(train_size))\n",
    "test_dataset = torch.utils.data.Subset(full_dataset, range(train_size, len(full_dataset)))\n",
    "\n",
    "# Set up data loaders\n",
    "batch_size = 256\n",
    "kwargs = {'num_workers': 1, 'pin_memory': True} if cuda else {}\n",
    "train_loader = torch.utils.data.DataLoader(train_dataset, batch_size=batch_size, shuffle=False, **kwargs)\n",
    "test_loader = torch.utils.data.DataLoader(test_dataset, batch_size=batch_size, shuffle=False, **kwargs)"
   ]
  },
  {
   "cell_type": "markdown",
   "metadata": {},
   "source": [
    "### 2. Triplet model dataset"
   ]
  },
  {
   "cell_type": "markdown",
   "metadata": {},
   "source": [
    "Create Triplet dataset generator class"
   ]
  },
  {
   "cell_type": "code",
   "execution_count": 3,
   "metadata": {},
   "outputs": [],
   "source": [
    "import numpy as np\n",
    "import torch\n",
    "from torch.utils.data import Dataset\n",
    "from torch.utils.data.sampler import BatchSampler\n",
    "\n",
    "class Triplet_dataset(Dataset):\n",
    "    \"\"\"\n",
    "    Train: For each sample (anchor) randomly chooses a positive and negative samples\n",
    "    Test: Creates fixed triplets for testing\n",
    "    \"\"\"\n",
    "\n",
    "    def __init__(self, original_dataset, is_train, transform=None):\n",
    "        self.original_dataset = original_dataset\n",
    "        self.train = is_train\n",
    "        self.transform = transform\n",
    "\n",
    "        if self.train:\n",
    "            self.train_labels = [] #create list to store labels\n",
    "            for data in self.original_dataset: #iterate and initialize list\n",
    "                self.train_labels.append(data[1])\n",
    "            self.train_labels = np.array(self.train_labels) # list to numpy array\n",
    "            self.train_labels = torch.from_numpy(self.train_labels) # numpy array to tensor\n",
    "            self.labels_set = set(self.train_labels.numpy())\n",
    "            self.label_to_indices = {label: np.where(self.train_labels.numpy() == label)[0]\n",
    "                                     for label in self.labels_set}\n",
    "\n",
    "        else:\n",
    "            \n",
    "            self.test_labels = [] #create list to store labels\n",
    "            for data in self.original_dataset: #iterate and initialize list\n",
    "                self.test_labels.append(data[1])\n",
    "            self.test_labels = np.array(self.test_labels) # list to numpy array\n",
    "            self.test_labels = torch.from_numpy(self.test_labels) # numpy array to tensor\n",
    "            self.labels_set = set(self.test_labels.numpy())\n",
    "            self.label_to_indices = {label: np.where(self.test_labels.numpy() == label)[0]\n",
    "                                     for label in self.labels_set}\n",
    "\n",
    "            random_state = np.random.RandomState(29)\n",
    "\n",
    "            triplets = [[i,\n",
    "                         random_state.choice(self.label_to_indices[self.test_labels[i].item()]),\n",
    "                         random_state.choice(self.label_to_indices[\n",
    "                                                 np.random.choice(\n",
    "                                                     list(self.labels_set - set([self.test_labels[i].item()]))\n",
    "                                                 )\n",
    "                                             ])\n",
    "                         ]\n",
    "                        for i in range(len(self.original_dataset))]\n",
    "            self.test_triplets = triplets\n",
    "\n",
    "    def __getitem__(self, index):\n",
    "        if self.train:\n",
    "            img1_tuple, label1 = self.original_dataset.imgs[index], self.train_labels[index].item()\n",
    "            positive_index = index\n",
    "            while positive_index == index:\n",
    "                positive_index = np.random.choice(self.label_to_indices[label1])\n",
    "            negative_label = np.random.choice(list(self.labels_set - set([label1])))\n",
    "            negative_index = np.random.choice(self.label_to_indices[negative_label])\n",
    "            img2_tuple = self.original_dataset.imgs[positive_index]\n",
    "            img3_tuple = self.original_dataset.imgs[negative_index]\n",
    "        else:\n",
    "            img1_tuple = self.original_dataset.imgs[self.test_triplets[index][0]]\n",
    "            img2_tuple = self.original_dataset.imgs[self.test_triplets[index][1]]\n",
    "            img3_tuple = self.original_dataset.imgs[self.test_triplets[index][2]]\n",
    "            \n",
    "        img1 = Image.open(img1_tuple[0])\n",
    "        img1 = img1.convert(\"L\")\n",
    "        img2 = Image.open(img2_tuple[0])\n",
    "        img2 = img1.convert(\"L\")\n",
    "        img3 = Image.open(img3_tuple[0])\n",
    "        img3 = img1.convert(\"L\")\n",
    "\n",
    "        if self.transform is not None:\n",
    "            img1 = self.transform(img1)\n",
    "            img2 = self.transform(img2)\n",
    "            img3 = self.transform(img3)\n",
    "            \n",
    "        return (img1, img2, img3), []\n",
    "\n",
    "    def __len__(self):\n",
    "        return len(self.original_dataset)"
   ]
  },
  {
   "cell_type": "markdown",
   "metadata": {},
   "source": [
    "Generate Siamese dataset"
   ]
  },
  {
   "cell_type": "code",
   "execution_count": 4,
   "metadata": {},
   "outputs": [],
   "source": [
    "Triplet_train_dataset = Triplet_dataset(original_dataset=train_dataset.dataset,\n",
    "                                        is_train = True,\n",
    "                                        transform=transforms.Compose([transforms.Grayscale(num_output_channels=1),\n",
    "                                                                      transforms.Resize((28,28)),\n",
    "                                                                      transforms.ToTensor(),\n",
    "                                                                      transforms.Normalize((mean,), (std,))\n",
    "                                                                      ])\n",
    "                                       )\n",
    "\n",
    "Triplet_test_dataset = Triplet_dataset(original_dataset=test_dataset.dataset,\n",
    "                                       is_train = False,\n",
    "                                        transform=transforms.Compose([transforms.Grayscale(num_output_channels=1),\n",
    "                                                                      transforms.Resize((28,28)),\n",
    "                                                                      transforms.ToTensor(),\n",
    "                                                                      transforms.Normalize((mean,), (std,))\n",
    "                                                                      ])\n",
    "                                       )"
   ]
  },
  {
   "cell_type": "markdown",
   "metadata": {},
   "source": [
    "## Part 2: Network"
   ]
  },
  {
   "cell_type": "markdown",
   "metadata": {},
   "source": [
    "### 2.1 Network Code"
   ]
  },
  {
   "cell_type": "markdown",
   "metadata": {},
   "source": [
    "Embedding Network"
   ]
  },
  {
   "cell_type": "code",
   "execution_count": 5,
   "metadata": {},
   "outputs": [],
   "source": [
    "import torch.nn as nn\n",
    "import torch.nn.functional as F\n",
    "class EmbeddingNet(nn.Module):\n",
    "    def __init__(self):\n",
    "        super(EmbeddingNet, self).__init__()\n",
    "        self.convnet = nn.Sequential(nn.Conv2d(1, 32, 5), nn.PReLU(),\n",
    "                                     nn.MaxPool2d(2, stride=2),\n",
    "                                     nn.Conv2d(32, 64, 5), nn.PReLU(),\n",
    "                                     nn.MaxPool2d(2, stride=2))\n",
    "\n",
    "        self.fc = nn.Sequential(nn.Linear(64 * 4 * 4, 512),\n",
    "                                nn.PReLU(),\n",
    "#                                 nn.Linear(512, 512),\n",
    "#                                 nn.PReLU(),\n",
    "#                                 nn.Linear(512, 512)\n",
    "                                )\n",
    "\n",
    "    def forward(self, x):\n",
    "        output = self.convnet(x)\n",
    "        output = output.view(output.size()[0], -1)\n",
    "        output = self.fc(output)\n",
    "        return output\n",
    "\n",
    "    def get_embedding(self, x):\n",
    "        return self.forward(x)"
   ]
  },
  {
   "cell_type": "markdown",
   "metadata": {},
   "source": [
    "Triplet Network"
   ]
  },
  {
   "cell_type": "code",
   "execution_count": 6,
   "metadata": {},
   "outputs": [],
   "source": [
    "import torch.nn as nn\n",
    "import torch.nn.functional as F\n",
    "class TripletNet(nn.Module):\n",
    "    def __init__(self, embedding_net):\n",
    "        super(TripletNet, self).__init__()\n",
    "        self.embedding_net = embedding_net\n",
    "\n",
    "    def forward(self, x1, x2, x3):\n",
    "        output1 = self.embedding_net(x1)\n",
    "        output2 = self.embedding_net(x2)\n",
    "        output3 = self.embedding_net(x3)\n",
    "        return output1, output2, output3\n",
    "\n",
    "    def get_embedding(self, x):\n",
    "        return self.embedding_net(x)"
   ]
  },
  {
   "cell_type": "markdown",
   "metadata": {},
   "source": [
    "Triplet loss function"
   ]
  },
  {
   "cell_type": "code",
   "execution_count": 7,
   "metadata": {},
   "outputs": [],
   "source": [
    "import torch\n",
    "import torch.nn as nn\n",
    "import torch.nn.functional as F\n",
    "\n",
    "class TripletLoss(nn.Module):\n",
    "    \"\"\"\n",
    "    Triplet loss\n",
    "    Takes embeddings of an anchor sample, a positive sample and a negative sample\n",
    "    \"\"\"\n",
    "\n",
    "    def __init__(self, margin):\n",
    "        super(TripletLoss, self).__init__()\n",
    "        self.margin = margin\n",
    "\n",
    "    def forward(self, anchor, positive, negative, size_average=True):\n",
    "        distance_positive = (anchor - positive).pow(2).sum(1)  # .pow(.5)\n",
    "        distance_negative = (anchor - negative).pow(2).sum(1)  # .pow(.5)\n",
    "        losses = F.relu(distance_positive - distance_negative + self.margin)\n",
    "        return losses.mean() if size_average else losses.sum()"
   ]
  },
  {
   "cell_type": "markdown",
   "metadata": {},
   "source": [
    "### 2.2 Create Network"
   ]
  },
  {
   "cell_type": "code",
   "execution_count": 8,
   "metadata": {},
   "outputs": [],
   "source": [
    "import torch.optim as optim\n",
    "from torch.optim import lr_scheduler\n",
    "\n",
    "batch_size = 128\n",
    "kwargs = {'num_workers': 1, 'pin_memory': True} if cuda else {}\n",
    "triplet_train_loader = torch.utils.data.DataLoader(Triplet_train_dataset, batch_size=batch_size, shuffle=False, **kwargs)\n",
    "triplet_test_loader = torch.utils.data.DataLoader(Triplet_test_dataset, batch_size=batch_size, shuffle=False, **kwargs)\n",
    "\n",
    "margin = 1.\n",
    "embedding_net = EmbeddingNet()\n",
    "model = TripletNet(embedding_net)\n",
    "if cuda:\n",
    "    model.cuda()\n",
    "loss_fn = TripletLoss(margin)\n",
    "lr = 1e-3\n",
    "optimizer = optim.Adam(model.parameters(), lr=lr)\n",
    "scheduler = lr_scheduler.StepLR(optimizer, 8, gamma=0.1, last_epoch=-1)\n",
    "n_epochs = 20\n",
    "log_interval = 100"
   ]
  },
  {
   "cell_type": "markdown",
   "metadata": {},
   "source": [
    "## Part 3: Train Network"
   ]
  },
  {
   "cell_type": "markdown",
   "metadata": {},
   "source": [
    "### 3.1 Trainer class"
   ]
  },
  {
   "cell_type": "code",
   "execution_count": 11,
   "metadata": {},
   "outputs": [],
   "source": [
    "import numpy as np\n",
    "import random\n",
    "import torch\n",
    "import os\n",
    "from PIL import Image\n",
    "\n",
    "from torch.utils.data import Dataset\n",
    "from torch.utils.data.sampler import BatchSampler\n",
    "\n",
    "\n",
    "def fit(train_loader, val_loader, model, loss_fn, optimizer, scheduler, n_epochs, cuda, log_interval, metrics=[],\n",
    "        start_epoch=0):\n",
    "    \"\"\"\n",
    "    Loaders, model, loss function and metrics should work together for a given task,\n",
    "    i.e. The model should be able to process data output of loaders,\n",
    "    loss function should process target output of loaders and outputs from the model\n",
    "\n",
    "    Examples: Classification: batch loader, classification model, NLL loss, accuracy metric\n",
    "    Siamese network: Siamese loader, siamese model, contrastive loss\n",
    "    Online triplet learning: batch loader, embedding model, online triplet loss\n",
    "    \"\"\"\n",
    "    for epoch in range(0, start_epoch):\n",
    "        scheduler.step()\n",
    "\n",
    "    for epoch in range(start_epoch, n_epochs):\n",
    "        scheduler.step()\n",
    "\n",
    "        # Train stage\n",
    "        train_loss, metrics = train_epoch(train_loader, model, loss_fn, optimizer, cuda, log_interval, metrics)\n",
    "\n",
    "        message = 'Epoch: {}/{}. Train set: Average loss: {:.4f}'.format(epoch + 1, n_epochs, train_loss)\n",
    "        for metric in metrics:\n",
    "            message += '\\t{}: {}'.format(metric.name(), metric.value())\n",
    "\n",
    "        val_loss, metrics = test_epoch(val_loader, model, loss_fn, cuda, metrics)\n",
    "        val_loss /= len(val_loader)\n",
    "\n",
    "        message += '\\nEpoch: {}/{}. Validation set: Average loss: {:.4f}'.format(epoch + 1, n_epochs,\n",
    "                                                                                 val_loss)\n",
    "        for metric in metrics:\n",
    "            message += '\\t{}: {}'.format(metric.name(), metric.value())\n",
    "\n",
    "        print(message)\n",
    "\n",
    "\n",
    "def train_epoch(train_loader, model, loss_fn, optimizer, cuda, log_interval, metrics):\n",
    "    for metric in metrics:\n",
    "        metric.reset()\n",
    "\n",
    "    model.train()\n",
    "    losses = []\n",
    "    total_loss = 0\n",
    "\n",
    "    for batch_idx, (data, target) in enumerate(train_loader):\n",
    "        target = target if len(target) > 0 else None\n",
    "        if not type(data) in (tuple, list):\n",
    "            data = (data,)\n",
    "        if cuda:\n",
    "            data = tuple(d.cuda() for d in data)\n",
    "            if target is not None:\n",
    "                target = target.cuda()\n",
    "\n",
    "\n",
    "        optimizer.zero_grad()\n",
    "        outputs = model(*data)\n",
    "\n",
    "        if type(outputs) not in (tuple, list):\n",
    "            outputs = (outputs,)\n",
    "\n",
    "        loss_inputs = outputs\n",
    "        if target is not None:\n",
    "            target = (target,)\n",
    "            loss_inputs += target\n",
    "\n",
    "        loss_outputs = loss_fn(*loss_inputs)\n",
    "        loss = loss_outputs[0] if type(loss_outputs) in (tuple, list) else loss_outputs\n",
    "        losses.append(loss.item())\n",
    "        total_loss += loss.item()\n",
    "        loss.backward()\n",
    "        optimizer.step()\n",
    "\n",
    "        for metric in metrics:\n",
    "            metric(outputs, target, loss_outputs)\n",
    "\n",
    "        if batch_idx % log_interval == 0:\n",
    "            message = 'Train: [{}/{} ({:.0f}%)]\\tLoss: {:.6f}'.format(\n",
    "                batch_idx * len(data[0]), len(train_loader.dataset),\n",
    "                100. * batch_idx / len(train_loader), np.mean(losses))\n",
    "            for metric in metrics:\n",
    "                message += '\\t{}: {}'.format(metric.name(), metric.value())\n",
    "\n",
    "            print(message)\n",
    "            losses = []\n",
    "\n",
    "    total_loss /= (batch_idx + 1)\n",
    "    return total_loss, metrics\n",
    "\n",
    "\n",
    "def test_epoch(val_loader, model, loss_fn, cuda, metrics):\n",
    "    with torch.no_grad():\n",
    "        for metric in metrics:\n",
    "            metric.reset()\n",
    "        model.eval()\n",
    "        val_loss = 0\n",
    "        for batch_idx, (data, target) in enumerate(val_loader):\n",
    "            target = target if len(target) > 0 else None\n",
    "            if not type(data) in (tuple, list):\n",
    "                data = (data,)\n",
    "            if cuda:\n",
    "                data = tuple(d.cuda() for d in data)\n",
    "                if target is not None:\n",
    "                    target = target.cuda()\n",
    "\n",
    "            outputs = model(*data)\n",
    "\n",
    "            if type(outputs) not in (tuple, list):\n",
    "                outputs = (outputs,)\n",
    "            loss_inputs = outputs\n",
    "            if target is not None:\n",
    "                target = (target,)\n",
    "                loss_inputs += target\n",
    "\n",
    "            loss_outputs = loss_fn(*loss_inputs)\n",
    "            loss = loss_outputs[0] if type(loss_outputs) in (tuple, list) else loss_outputs\n",
    "            val_loss += loss.item()\n",
    "\n",
    "            for metric in metrics:\n",
    "                metric(outputs, target, loss_outputs)\n",
    "\n",
    "    return val_loss, metrics"
   ]
  },
  {
   "cell_type": "markdown",
   "metadata": {},
   "source": [
    "### 3.2 Train Network"
   ]
  },
  {
   "cell_type": "code",
   "execution_count": 12,
   "metadata": {},
   "outputs": [
    {
     "name": "stdout",
     "output_type": "stream",
     "text": [
      "Train: [0/837 (0%)]\tLoss: 1.000000\n",
      "Epoch: 1/20. Train set: Average loss: 1.0000\n",
      "Epoch: 1/20. Validation set: Average loss: 1.0000\n",
      "Train: [0/837 (0%)]\tLoss: 1.000000\n",
      "Epoch: 2/20. Train set: Average loss: 1.0000\n",
      "Epoch: 2/20. Validation set: Average loss: 1.0000\n",
      "Train: [0/837 (0%)]\tLoss: 1.000000\n",
      "Epoch: 3/20. Train set: Average loss: 1.0000\n",
      "Epoch: 3/20. Validation set: Average loss: 1.0000\n",
      "Train: [0/837 (0%)]\tLoss: 1.000000\n",
      "Epoch: 4/20. Train set: Average loss: 1.0000\n",
      "Epoch: 4/20. Validation set: Average loss: 1.0000\n",
      "Train: [0/837 (0%)]\tLoss: 1.000000\n",
      "Epoch: 5/20. Train set: Average loss: 1.0000\n",
      "Epoch: 5/20. Validation set: Average loss: 1.0000\n",
      "Train: [0/837 (0%)]\tLoss: 1.000000\n",
      "Epoch: 6/20. Train set: Average loss: 1.0000\n",
      "Epoch: 6/20. Validation set: Average loss: 1.0000\n",
      "Train: [0/837 (0%)]\tLoss: 1.000000\n",
      "Epoch: 7/20. Train set: Average loss: 1.0000\n",
      "Epoch: 7/20. Validation set: Average loss: 1.0000\n",
      "Train: [0/837 (0%)]\tLoss: 1.000000\n",
      "Epoch: 8/20. Train set: Average loss: 1.0000\n",
      "Epoch: 8/20. Validation set: Average loss: 1.0000\n",
      "Train: [0/837 (0%)]\tLoss: 1.000000\n",
      "Epoch: 9/20. Train set: Average loss: 1.0000\n",
      "Epoch: 9/20. Validation set: Average loss: 1.0000\n",
      "Train: [0/837 (0%)]\tLoss: 1.000000\n",
      "Epoch: 10/20. Train set: Average loss: 1.0000\n",
      "Epoch: 10/20. Validation set: Average loss: 1.0000\n",
      "Train: [0/837 (0%)]\tLoss: 1.000000\n",
      "Epoch: 11/20. Train set: Average loss: 1.0000\n",
      "Epoch: 11/20. Validation set: Average loss: 1.0000\n",
      "Train: [0/837 (0%)]\tLoss: 1.000000\n",
      "Epoch: 12/20. Train set: Average loss: 1.0000\n",
      "Epoch: 12/20. Validation set: Average loss: 1.0000\n",
      "Train: [0/837 (0%)]\tLoss: 1.000000\n",
      "Epoch: 13/20. Train set: Average loss: 1.0000\n",
      "Epoch: 13/20. Validation set: Average loss: 1.0000\n",
      "Train: [0/837 (0%)]\tLoss: 1.000000\n",
      "Epoch: 14/20. Train set: Average loss: 1.0000\n",
      "Epoch: 14/20. Validation set: Average loss: 1.0000\n",
      "Train: [0/837 (0%)]\tLoss: 1.000000\n",
      "Epoch: 15/20. Train set: Average loss: 1.0000\n",
      "Epoch: 15/20. Validation set: Average loss: 1.0000\n",
      "Train: [0/837 (0%)]\tLoss: 1.000000\n",
      "Epoch: 16/20. Train set: Average loss: 1.0000\n",
      "Epoch: 16/20. Validation set: Average loss: 1.0000\n",
      "Train: [0/837 (0%)]\tLoss: 1.000000\n",
      "Epoch: 17/20. Train set: Average loss: 1.0000\n",
      "Epoch: 17/20. Validation set: Average loss: 1.0000\n",
      "Train: [0/837 (0%)]\tLoss: 1.000000\n",
      "Epoch: 18/20. Train set: Average loss: 1.0000\n",
      "Epoch: 18/20. Validation set: Average loss: 1.0000\n",
      "Train: [0/837 (0%)]\tLoss: 1.000000\n",
      "Epoch: 19/20. Train set: Average loss: 1.0000\n",
      "Epoch: 19/20. Validation set: Average loss: 1.0000\n",
      "Train: [0/837 (0%)]\tLoss: 1.000000\n",
      "Epoch: 20/20. Train set: Average loss: 1.0000\n",
      "Epoch: 20/20. Validation set: Average loss: 1.0000\n"
     ]
    }
   ],
   "source": [
    "fit(triplet_train_loader, triplet_test_loader, model, loss_fn, optimizer, scheduler, n_epochs, cuda, log_interval)"
   ]
  },
  {
   "cell_type": "markdown",
   "metadata": {},
   "source": [
    "### 3.3 Save Network parameters"
   ]
  },
  {
   "cell_type": "code",
   "execution_count": 13,
   "metadata": {},
   "outputs": [],
   "source": [
    "torch.save(model.state_dict(), \"triplet_state.pth\")"
   ]
  },
  {
   "cell_type": "markdown",
   "metadata": {},
   "source": [
    "## Part 4: Extract Embedding"
   ]
  },
  {
   "cell_type": "markdown",
   "metadata": {},
   "source": [
    "### 4.1 Extracter method"
   ]
  },
  {
   "cell_type": "code",
   "execution_count": 15,
   "metadata": {},
   "outputs": [],
   "source": [
    "def extract_embeddings(dataloader, model):\n",
    "    with torch.no_grad():\n",
    "        model.eval()\n",
    "        embeddings = np.zeros((len(dataloader.dataset), 512))\n",
    "        labels = np.zeros(len(dataloader.dataset))\n",
    "        k = 0\n",
    "        for images, target in dataloader:\n",
    "            if cuda:\n",
    "                images = images.cuda()\n",
    "            embeddings[k:k+len(images)] = model.get_embedding(images).data.cpu().numpy()\n",
    "            labels[k:k+len(images)] = target.numpy()\n",
    "            k += len(images)\n",
    "    return embeddings, labels"
   ]
  },
  {
   "cell_type": "markdown",
   "metadata": {},
   "source": [
    "### 4.2 Extract embedding and save to csv"
   ]
  },
  {
   "cell_type": "code",
   "execution_count": 16,
   "metadata": {},
   "outputs": [],
   "source": [
    "import pandas as pd\n",
    "\n",
    "train_embeddings_cl, train_labels_cl = extract_embeddings(train_loader, model)\n",
    "train_embeddings_cl_df = pd.DataFrame(train_embeddings_cl)\n",
    "train_embeddings_cl_df.to_csv(\"embedding_space_triplet.csv\",index=False)"
   ]
  },
  {
   "cell_type": "markdown",
   "metadata": {},
   "source": [
    "## Part 5: Save image path with index"
   ]
  },
  {
   "cell_type": "code",
   "execution_count": 17,
   "metadata": {},
   "outputs": [],
   "source": [
    "image_list = train_dataset.dataset.imgs\n",
    "image_list_df = pd.DataFrame(image_list)\n",
    "image_list_df.to_csv(\"image_path_triplet.csv\",index=False)"
   ]
  },
  {
   "cell_type": "code",
   "execution_count": null,
   "metadata": {},
   "outputs": [],
   "source": [
    "# new_image_path = '/Users/y/Desktop/program1/input_pic1.jpg'\n",
    "# image_list =  image_list_df.values.tolist()\n",
    "# train_embeddings_cl = train_embeddings_cl_df.values.tolist()"
   ]
  },
  {
   "cell_type": "code",
   "execution_count": null,
   "metadata": {},
   "outputs": [],
   "source": [
    "# mean, std = 0.1307, 0.3081\n",
    "# transform=transforms.Compose([transforms.Grayscale(num_output_channels=1),\n",
    "#                                                             transforms.Resize((28,28)),\n",
    "#                                                             transforms.ToTensor(),\n",
    "#                                                             transforms.Normalize((mean,), (std,))\n",
    "#                                                             ])"
   ]
  },
  {
   "cell_type": "code",
   "execution_count": null,
   "metadata": {},
   "outputs": [],
   "source": [
    "# image = Image.open(new_image_path)\n",
    "# image = transform(image)\n",
    "# image.unsqueeze_(0)\n",
    "# new_picture_embedding = model.get_embedding(image).data.cpu().numpy()\n",
    "\n"
   ]
  },
  {
   "cell_type": "code",
   "execution_count": null,
   "metadata": {},
   "outputs": [],
   "source": [
    "# distance = []\n",
    "# I = []\n",
    "\n",
    "# for i in train_embeddings_cl:\n",
    "#     d = 0\n",
    "#     for j in range(len(new_picture_embedding[0])):\n",
    "#         ds = (new_picture_embedding[0][j] - i[j])**2\n",
    "#         d = d + ds\n",
    "#     distance.append(np.sqrt(d))\n",
    "\n",
    "# for i in sorted(distance)[0:10]:\n",
    "#     I.append(distance.index(i))\n",
    "\n",
    "# path_list = []\n",
    "# for i in I:\n",
    "#     temp = image_list[i][0]\n",
    "#     temp = temp.replace(\"\\\\\", '/')\n",
    "#     temp = 'program/' + temp\n",
    "#     path_list.append(temp)"
   ]
  },
  {
   "cell_type": "code",
   "execution_count": null,
   "metadata": {},
   "outputs": [],
   "source": [
    "# sorted(distance)"
   ]
  },
  {
   "cell_type": "code",
   "execution_count": null,
   "metadata": {},
   "outputs": [],
   "source": [
    "# path_list"
   ]
  },
  {
   "cell_type": "code",
   "execution_count": null,
   "metadata": {},
   "outputs": [],
   "source": [
    "# from PIL import Image\n",
    "# a = Image.open(new_image_path)\n",
    "# a"
   ]
  },
  {
   "cell_type": "code",
   "execution_count": null,
   "metadata": {},
   "outputs": [],
   "source": [
    "# b = Image.open('/Users/y/Documents/TeamStaySafe/web/static/'+path_list[0])\n",
    "# b"
   ]
  },
  {
   "cell_type": "code",
   "execution_count": null,
   "metadata": {},
   "outputs": [],
   "source": []
  }
 ],
 "metadata": {
  "kernelspec": {
   "display_name": "Python 3",
   "language": "python",
   "name": "python3"
  },
  "language_info": {
   "codemirror_mode": {
    "name": "ipython",
    "version": 3
   },
   "file_extension": ".py",
   "mimetype": "text/x-python",
   "name": "python",
   "nbconvert_exporter": "python",
   "pygments_lexer": "ipython3",
   "version": "3.7.6"
  }
 },
 "nbformat": 4,
 "nbformat_minor": 4
}
